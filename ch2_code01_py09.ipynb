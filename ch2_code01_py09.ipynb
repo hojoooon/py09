{
  "nbformat": 4,
  "nbformat_minor": 0,
  "metadata": {
    "colab": {
      "name": "ch2_code01_py09.ipynb",
      "provenance": [],
      "collapsed_sections": [],
      "include_colab_link": true
    },
    "kernelspec": {
      "name": "python3",
      "display_name": "Python 3"
    }
  },
  "cells": [
    {
      "cell_type": "markdown",
      "metadata": {
        "id": "view-in-github",
        "colab_type": "text"
      },
      "source": [
        "<a href=\"https://colab.research.google.com/github/hojoooon/py09/blob/master/ch2_code01_py09.ipynb\" target=\"_parent\"><img src=\"https://colab.research.google.com/assets/colab-badge.svg\" alt=\"Open In Colab\"/></a>"
      ]
    },
    {
      "cell_type": "markdown",
      "metadata": {
        "id": "H4jNE-BMAK3f",
        "colab_type": "text"
      },
      "source": [
        "# ch2_code01.ipynb\n",
        "## py00\n"
      ]
    },
    {
      "cell_type": "code",
      "metadata": {
        "id": "hTRRKc56En6p",
        "colab_type": "code",
        "outputId": "df8c6da9-16af-4f28-a623-ebeceaaaeae1",
        "colab": {
          "base_uri": "https://localhost:8080/",
          "height": 52
        }
      },
      "source": [
        "# ch2_01_numeric.py\n",
        "#\n",
        "print(\"숫자형: 정수\") # 동적타이핑 (Dynamic typing)\n",
        "a = 123\n",
        "a = -178\n",
        "# a = 0\n",
        "# a\n",
        "print(a)"
      ],
      "execution_count": 0,
      "outputs": [
        {
          "output_type": "stream",
          "text": [
            "숫자형: 정수\n",
            "-178\n"
          ],
          "name": "stdout"
        }
      ]
    },
    {
      "cell_type": "code",
      "metadata": {
        "id": "RmD1eNxvEvZ3",
        "colab_type": "code",
        "outputId": "a07e2080-d5b9-416c-b71f-6b208cbd94b9",
        "colab": {
          "base_uri": "https://localhost:8080/",
          "height": 52
        }
      },
      "source": [
        "a1 = 123\n",
        "a2 = -178\n",
        "a3 = 0\n",
        "print(a1,a2,a3)\n",
        "a"
      ],
      "execution_count": 0,
      "outputs": [
        {
          "output_type": "stream",
          "text": [
            "123 -178 0\n"
          ],
          "name": "stdout"
        },
        {
          "output_type": "execute_result",
          "data": {
            "text/plain": [
              "-178"
            ]
          },
          "metadata": {
            "tags": []
          },
          "execution_count": 10
        }
      ]
    },
    {
      "cell_type": "code",
      "metadata": {
        "id": "A-eiO4RVFj0h",
        "colab_type": "code",
        "outputId": "d3f3e335-ef6d-4ddc-c784-589906752c05",
        "colab": {
          "base_uri": "https://localhost:8080/",
          "height": 35
        }
      },
      "source": [
        "print(\"a1 = \",a1)"
      ],
      "execution_count": 0,
      "outputs": [
        {
          "output_type": "stream",
          "text": [
            "a1 =  123\n"
          ],
          "name": "stdout"
        }
      ]
    },
    {
      "cell_type": "markdown",
      "metadata": {
        "id": "f7Yc9I3SFz9H",
        "colab_type": "text"
      },
      "source": [
        "### 다음과 같이 출력해 보세요.\n",
        "> a1 = 123 a2 = -179 a3 = 0"
      ]
    },
    {
      "cell_type": "code",
      "metadata": {
        "id": "Mk8oJ9O4GHLS",
        "colab_type": "code",
        "outputId": "567276cb-0e13-4d55-f639-158cf77dedf0",
        "colab": {
          "base_uri": "https://localhost:8080/",
          "height": 35
        }
      },
      "source": [
        "print(\"a1 = \",a1,\", a2 = \",a2,\", a3 = \",a3)"
      ],
      "execution_count": 0,
      "outputs": [
        {
          "output_type": "stream",
          "text": [
            "a1 =  123 , a2 =  -178 , a3 =  0\n"
          ],
          "name": "stdout"
        }
      ]
    },
    {
      "cell_type": "markdown",
      "metadata": {
        "id": "qHpKvzKaHMHU",
        "colab_type": "text"
      },
      "source": [
        "### 숫자형: 실수\n",
        "> 파이썬에서 실수를 표현해보자."
      ]
    },
    {
      "cell_type": "code",
      "metadata": {
        "id": "5n_QU4raDXsz",
        "colab_type": "code",
        "outputId": "a48e2dd0-2acb-440e-805a-81297107cbf0",
        "colab": {
          "base_uri": "https://localhost:8080/",
          "height": 52
        }
      },
      "source": [
        "print(\"숫자형: 실수\")\n",
        "a1 = 1.2\n",
        "a2 = -3.48\n",
        "a3 = 4.24e10\n",
        "a4 = 4.24e-10\n",
        "a1,a2,a3,a4"
      ],
      "execution_count": 0,
      "outputs": [
        {
          "output_type": "stream",
          "text": [
            "숫자형: 실수\n"
          ],
          "name": "stdout"
        },
        {
          "output_type": "execute_result",
          "data": {
            "text/plain": [
              "(1.2, -3.48, 42400000000.0, 4.24e-10)"
            ]
          },
          "metadata": {
            "tags": []
          },
          "execution_count": 14
        }
      ]
    },
    {
      "cell_type": "code",
      "metadata": {
        "id": "1kflZ45rGxYM",
        "colab_type": "code",
        "outputId": "c75a1828-a16e-4374-d855-349995cdb961",
        "colab": {
          "base_uri": "https://localhost:8080/",
          "height": 88
        }
      },
      "source": [
        "print(\"숫자형: 8진수와 16진수\")\n",
        "a = 0o177\n",
        "print(a)\n",
        "a = 0x8FF  # Hexadecimal: 16진수, 0 ~ F\n",
        "print(a)\n",
        "a = 0xABC\n",
        "a"
      ],
      "execution_count": 0,
      "outputs": [
        {
          "output_type": "stream",
          "text": [
            "숫자형: 8진수와 16진수\n",
            "127\n",
            "2303\n"
          ],
          "name": "stdout"
        },
        {
          "output_type": "execute_result",
          "data": {
            "text/plain": [
              "2748"
            ]
          },
          "metadata": {
            "tags": []
          },
          "execution_count": 16
        }
      ]
    },
    {
      "cell_type": "markdown",
      "metadata": {
        "id": "TWVb9JziIu2Y",
        "colab_type": "text"
      },
      "source": [
        "### 숫자형: 연산자와 연산"
      ]
    },
    {
      "cell_type": "code",
      "metadata": {
        "id": "zoZGX23-Hr8N",
        "colab_type": "code",
        "outputId": "b833a3d4-94c4-471f-f39d-a38c1e1395a1",
        "colab": {
          "base_uri": "https://localhost:8080/",
          "height": 106
        }
      },
      "source": [
        "print(\"숫자형: 연산자와 연산\")\n",
        "a = 3\n",
        "b = 4\n",
        "print(a + b)\n",
        "print(a - b)\n",
        "print(a * b)\n",
        "print(a / b)"
      ],
      "execution_count": 0,
      "outputs": [
        {
          "output_type": "stream",
          "text": [
            "숫자형: 연산자와 연산\n",
            "7\n",
            "-1\n",
            "12\n",
            "0.75\n"
          ],
          "name": "stdout"
        }
      ]
    },
    {
      "cell_type": "code",
      "metadata": {
        "id": "x_6TDIXpJdP1",
        "colab_type": "code",
        "outputId": "67a8fa6d-78e7-4751-de18-7de5121f3f8b",
        "colab": {
          "base_uri": "https://localhost:8080/",
          "height": 88
        }
      },
      "source": [
        "print(a ** b)\n",
        "print(a % b)\n",
        "print(b % a)\n",
        "a // b"
      ],
      "execution_count": 0,
      "outputs": [
        {
          "output_type": "stream",
          "text": [
            "81\n",
            "3\n",
            "1\n"
          ],
          "name": "stdout"
        },
        {
          "output_type": "execute_result",
          "data": {
            "text/plain": [
              "0"
            ]
          },
          "metadata": {
            "tags": []
          },
          "execution_count": 26
        }
      ]
    },
    {
      "cell_type": "code",
      "metadata": {
        "id": "IDjnM55HJ7WM",
        "colab_type": "code",
        "outputId": "8181dafe-ee7f-4064-dc80-6e75d363bd4f",
        "colab": {
          "base_uri": "https://localhost:8080/",
          "height": 35
        }
      },
      "source": [
        "14 // 3 ,14 % 3\n"
      ],
      "execution_count": 0,
      "outputs": [
        {
          "output_type": "execute_result",
          "data": {
            "text/plain": [
              "(4, 2)"
            ]
          },
          "metadata": {
            "tags": []
          },
          "execution_count": 29
        }
      ]
    },
    {
      "cell_type": "markdown",
      "metadata": {
        "id": "XgmrlyRhMv0m",
        "colab_type": "text"
      },
      "source": [
        "## 문자열 정의와 출력"
      ]
    },
    {
      "cell_type": "code",
      "metadata": {
        "id": "dRkzQjiyEnq7",
        "colab_type": "code",
        "outputId": "fb346a61-b907-4920-8ac4-4dcf4ca343c0",
        "colab": {
          "base_uri": "https://localhost:8080/",
          "height": 52
        }
      },
      "source": [
        "# ch2_02_string.py\n",
        "# \"Life is too short, you need python\"\n",
        "# 'Life is too short, you need python'\n",
        "# \"\"\"Life is too short, you need python\"\"\"\n",
        "# '''Life is too short, you need python'''\n",
        "\n",
        "print(\"문자열: '\")\n",
        "food = \"Python's favorite food is perl\"\n",
        "food"
      ],
      "execution_count": 0,
      "outputs": [
        {
          "output_type": "stream",
          "text": [
            "문자열: '\n"
          ],
          "name": "stdout"
        },
        {
          "output_type": "execute_result",
          "data": {
            "text/plain": [
              "\"Python's favorite food is perl\""
            ]
          },
          "metadata": {
            "tags": []
          },
          "execution_count": 30
        }
      ]
    },
    {
      "cell_type": "code",
      "metadata": {
        "id": "J0lOeSXjNWff",
        "colab_type": "code",
        "outputId": "c758cd94-810d-477d-881c-d56d9a9fd611",
        "colab": {
          "base_uri": "https://localhost:8080/",
          "height": 135
        }
      },
      "source": [
        "food = 'Python's favorite food is perl'  # Error"
      ],
      "execution_count": 0,
      "outputs": [
        {
          "output_type": "error",
          "ename": "SyntaxError",
          "evalue": "ignored",
          "traceback": [
            "\u001b[0;36m  File \u001b[0;32m\"<ipython-input-31-f53082fb6fe1>\"\u001b[0;36m, line \u001b[0;32m1\u001b[0m\n\u001b[0;31m    food = 'Python's favorite food is perl'  # Error\u001b[0m\n\u001b[0m                   ^\u001b[0m\n\u001b[0;31mSyntaxError\u001b[0m\u001b[0;31m:\u001b[0m invalid syntax\n"
          ]
        }
      ]
    },
    {
      "cell_type": "code",
      "metadata": {
        "id": "A6u1uNDKOj23",
        "colab_type": "code",
        "outputId": "22aeb906-b94a-47dd-bdf8-f319ee742bd8",
        "colab": {
          "base_uri": "https://localhost:8080/",
          "height": 35
        }
      },
      "source": [
        "food = \"Python's favorite food is perl\"\n",
        "food"
      ],
      "execution_count": 0,
      "outputs": [
        {
          "output_type": "execute_result",
          "data": {
            "text/plain": [
              "\"Python's favorite food is perl\""
            ]
          },
          "metadata": {
            "tags": []
          },
          "execution_count": 32
        }
      ]
    },
    {
      "cell_type": "code",
      "metadata": {
        "id": "281y8iuDN94g",
        "colab_type": "code",
        "outputId": "0113cbd1-85cd-4049-af13-a38901a043e0",
        "colab": {
          "base_uri": "https://localhost:8080/",
          "height": 35
        }
      },
      "source": [
        "say = '\"Python is very easy.\" he says.'\n",
        "say"
      ],
      "execution_count": 0,
      "outputs": [
        {
          "output_type": "execute_result",
          "data": {
            "text/plain": [
              "'\"Python is very easy.\" he says.'"
            ]
          },
          "metadata": {
            "tags": []
          },
          "execution_count": 33
        }
      ]
    },
    {
      "cell_type": "code",
      "metadata": {
        "id": "8cYuYDUHPKWJ",
        "colab_type": "code",
        "outputId": "9afb8db4-3bea-4ba8-8065-ab94b06ddd9d",
        "colab": {
          "base_uri": "https://localhost:8080/",
          "height": 88
        }
      },
      "source": [
        "print(\"문자열: \\ 이용\")\n",
        "food = 'Python\\'s favorite food is perl'\n",
        "say =\"\\\"Python is very easy.\\\" he says.\"\n",
        "print(food)\n",
        "print(say)\n",
        "say"
      ],
      "execution_count": 0,
      "outputs": [
        {
          "output_type": "stream",
          "text": [
            "문자열: \\ 이용\n",
            "Python's favorite food is perl\n",
            "\"Python is very easy.\" he says.\n"
          ],
          "name": "stdout"
        },
        {
          "output_type": "execute_result",
          "data": {
            "text/plain": [
              "'\"Python is very easy.\" he says.'"
            ]
          },
          "metadata": {
            "tags": []
          },
          "execution_count": 35
        }
      ]
    },
    {
      "cell_type": "markdown",
      "metadata": {
        "id": "yNZDViGgQY5z",
        "colab_type": "text"
      },
      "source": [
        "### 이스케이프 코드를 사용한 출력"
      ]
    },
    {
      "cell_type": "code",
      "metadata": {
        "id": "B4obuzttPd8j",
        "colab_type": "code",
        "outputId": "461776d8-478a-4d3a-9b89-0f89866334a9",
        "colab": {
          "base_uri": "https://localhost:8080/",
          "height": 70
        }
      },
      "source": [
        "# 이스케이프 코드\n",
        "print(\"문자열: 이스케이프 코드 이용\")\n",
        "multiline = \"Life is too short\\nYou need python\"\n",
        "# multiline\n",
        "print(multiline)"
      ],
      "execution_count": 0,
      "outputs": [
        {
          "output_type": "stream",
          "text": [
            "문자열: 이스케이프 코드 이용\n",
            "Life is too short\n",
            "You need python\n"
          ],
          "name": "stdout"
        }
      ]
    },
    {
      "cell_type": "markdown",
      "metadata": {
        "id": "XhrT1b1ZRKZ5",
        "colab_type": "text"
      },
      "source": [
        "### 여러줄 문자열 처리\n",
        "- \"\"\" .... \"\"\"\n",
        "- ''' .... '''"
      ]
    },
    {
      "cell_type": "code",
      "metadata": {
        "id": "JQenX7p6QtFc",
        "colab_type": "code",
        "outputId": "72e80306-7e50-4f60-f38d-03b2a1fb8214",
        "colab": {
          "base_uri": "https://localhost:8080/",
          "height": 212
        }
      },
      "source": [
        "# 여러줄 문자열 처리\n",
        "multiline = '''\n",
        "... Life is too short\n",
        "... You need python\n",
        "... '''\n",
        "multiline2 = \"\"\"\n",
        "인생은 짧고,\n",
        "파이썬은 필요하다.\n",
        "\"\"\"\n",
        "multiline3 = \"\"\"인생은 짧고,\n",
        "파이썬은 필요하다.\n",
        "\"\"\"\n",
        "\n",
        "print(multiline)\n",
        "print(multiline2)\n",
        "print(multiline3)"
      ],
      "execution_count": 0,
      "outputs": [
        {
          "output_type": "stream",
          "text": [
            "\n",
            "Life is too short\n",
            "You need python\n",
            "\n",
            "\n",
            "인생은 짧고,\n",
            "파이썬은 필요하다.\n",
            "\n",
            "인생은 짧고,\n",
            "파이썬은 필요하다.\n",
            "\n"
          ],
          "name": "stdout"
        }
      ]
    },
    {
      "cell_type": "markdown",
      "metadata": {
        "id": "TspEPREkSevb",
        "colab_type": "text"
      },
      "source": [
        "### 문자열 연산"
      ]
    },
    {
      "cell_type": "code",
      "metadata": {
        "id": "4B7Eb8jkRjBs",
        "colab_type": "code",
        "outputId": "9062e5e6-626b-497e-dfd5-a1f8df4eaab6",
        "colab": {
          "base_uri": "https://localhost:8080/",
          "height": 52
        }
      },
      "source": [
        "\n",
        "################################################\n",
        "print(\"문자열 연산: 더하기\")\n",
        "head = \"Python\"\n",
        "tail = \" is fun!\"\n",
        "head + tail"
      ],
      "execution_count": 0,
      "outputs": [
        {
          "output_type": "stream",
          "text": [
            "문자열 연산: 더하기\n"
          ],
          "name": "stdout"
        },
        {
          "output_type": "execute_result",
          "data": {
            "text/plain": [
              "'Python is fun!'"
            ]
          },
          "metadata": {
            "tags": []
          },
          "execution_count": 43
        }
      ]
    },
    {
      "cell_type": "code",
      "metadata": {
        "id": "i0E18WzWSnd7",
        "colab_type": "code",
        "outputId": "78aa656a-cf6a-4692-bd9c-6ebc03c10271",
        "colab": {
          "base_uri": "https://localhost:8080/",
          "height": 52
        }
      },
      "source": [
        "print(\"문자열 연산: 곱하기\")\n",
        "a = \"python\"\n",
        "a * 2"
      ],
      "execution_count": 0,
      "outputs": [
        {
          "output_type": "stream",
          "text": [
            "문자열 연산: 곱하기\n"
          ],
          "name": "stdout"
        },
        {
          "output_type": "execute_result",
          "data": {
            "text/plain": [
              "'pythonpython'"
            ]
          },
          "metadata": {
            "tags": []
          },
          "execution_count": 44
        }
      ]
    },
    {
      "cell_type": "code",
      "metadata": {
        "id": "OrfPy518S75S",
        "colab_type": "code",
        "outputId": "5ca82571-f560-495b-f616-f2757104da3b",
        "colab": {
          "base_uri": "https://localhost:8080/",
          "height": 70
        }
      },
      "source": [
        "#####################################\n",
        "# multistring.py\n",
        "print(\"=\" * 50)\n",
        "print(\"I am now coding Python!\")\n",
        "print(\"*\" * 50)\n",
        "#####################################"
      ],
      "execution_count": 0,
      "outputs": [
        {
          "output_type": "stream",
          "text": [
            "==================================================\n",
            "I am now coding Python!\n",
            "**************************************************\n"
          ],
          "name": "stdout"
        }
      ]
    },
    {
      "cell_type": "code",
      "metadata": {
        "id": "8vMxdlcJTGGb",
        "colab_type": "code",
        "outputId": "0b877610-e9c0-4487-98c2-a927239a0828",
        "colab": {
          "base_uri": "https://localhost:8080/",
          "height": 52
        }
      },
      "source": [
        "# 내장함수: len()\n",
        "print(\"문자열 연산: 길이 구하기 - len()\")\n",
        "a = \"Life is too short.\"\n",
        "len(a)"
      ],
      "execution_count": 0,
      "outputs": [
        {
          "output_type": "stream",
          "text": [
            "문자열 연산: 길이 구하기 - len()\n"
          ],
          "name": "stdout"
        },
        {
          "output_type": "execute_result",
          "data": {
            "text/plain": [
              "18"
            ]
          },
          "metadata": {
            "tags": []
          },
          "execution_count": 48
        }
      ]
    },
    {
      "cell_type": "markdown",
      "metadata": {
        "id": "r6yt5ZUTT2lU",
        "colab_type": "text"
      },
      "source": [
        "### 문자열 인덱싱, 슬라이싱"
      ]
    },
    {
      "cell_type": "code",
      "metadata": {
        "id": "b5fzXaAGTfUE",
        "colab_type": "code",
        "outputId": "b67b5022-f3f5-47d4-a2f3-f54d22ff056b",
        "colab": {
          "base_uri": "https://localhost:8080/",
          "height": 88
        }
      },
      "source": [
        "#####################################\n",
        "#\n",
        "# 문자열 인덱싱과 슬라이싱\n",
        "#\n",
        "#####################################\n",
        "print(\"문자열: 인덱싱이란?\")\n",
        "a = \"Life is too short, You need Python\"\n",
        "print(a[3])\n",
        "print(a[15])\n",
        "print(a[23])"
      ],
      "execution_count": 0,
      "outputs": [
        {
          "output_type": "stream",
          "text": [
            "문자열: 인덱싱이란?\n",
            "e\n",
            "r\n",
            "n\n"
          ],
          "name": "stdout"
        }
      ]
    },
    {
      "cell_type": "code",
      "metadata": {
        "id": "AQtK32P7UFFu",
        "colab_type": "code",
        "outputId": "01ef332e-a954-49bd-e819-79e4032d6926",
        "colab": {
          "base_uri": "https://localhost:8080/",
          "height": 52
        }
      },
      "source": [
        "# \"파이썬은 0부터 숫자를 센다.\"\n",
        "print(\"문자열: 인덱싱 활용\")\n",
        "\n",
        "a = \"Life is too short, You need Python\"\n",
        "# a[0]  # L\n",
        "\n",
        "# a[12]  # s\n",
        "\n",
        "# a[-1]  # n\n",
        "\n",
        "# # a[-0]\n",
        "a[-2] # o\n",
        "# a[-5]\n",
        "# a[-12]"
      ],
      "execution_count": 0,
      "outputs": [
        {
          "output_type": "stream",
          "text": [
            "문자열: 인덱싱 활용\n"
          ],
          "name": "stdout"
        },
        {
          "output_type": "execute_result",
          "data": {
            "text/plain": [
              "'o'"
            ]
          },
          "metadata": {
            "tags": []
          },
          "execution_count": 57
        }
      ]
    },
    {
      "cell_type": "code",
      "metadata": {
        "id": "OZsycM-pVPFx",
        "colab_type": "code",
        "outputId": "657d2895-f6ce-4b1c-fa83-0bec9a80e0d6",
        "colab": {
          "base_uri": "https://localhost:8080/",
          "height": 52
        }
      },
      "source": [
        "#####################################\n",
        "print(\"문자열: 슬라이싱이란?\")\n",
        "a = \"Life is too short, You need Python\"\n",
        "# Life 를 뽑아낼려면 어떻게?\n",
        "b = a[0] + a[1] + a[2] + a[3]  # 문자열 뎌하기 연산 \"L\",\"i\"\n",
        "b"
      ],
      "execution_count": 0,
      "outputs": [
        {
          "output_type": "stream",
          "text": [
            "문자열: 슬라이싱이란?\n"
          ],
          "name": "stdout"
        },
        {
          "output_type": "execute_result",
          "data": {
            "text/plain": [
              "'Life'"
            ]
          },
          "metadata": {
            "tags": []
          },
          "execution_count": 58
        }
      ]
    },
    {
      "cell_type": "code",
      "metadata": {
        "id": "FxgIiPboV0mP",
        "colab_type": "code",
        "outputId": "a3289c78-08eb-4435-95c9-cba79dcd070f",
        "colab": {
          "base_uri": "https://localhost:8080/",
          "height": 35
        }
      },
      "source": [
        "# slicing (슬라이싱)\n",
        "a[0:4]  # 0 <= index < 4"
      ],
      "execution_count": 0,
      "outputs": [
        {
          "output_type": "execute_result",
          "data": {
            "text/plain": [
              "'Life'"
            ]
          },
          "metadata": {
            "tags": []
          },
          "execution_count": 59
        }
      ]
    },
    {
      "cell_type": "code",
      "metadata": {
        "id": "dZhm-kpeWLB8",
        "colab_type": "code",
        "outputId": "1e1fb038-bbf6-4e30-c013-ad408303c54b",
        "colab": {
          "base_uri": "https://localhost:8080/",
          "height": 52
        }
      },
      "source": [
        "a[0:5]\n",
        "print(a[5:7])\n",
        "print(a[12:17])"
      ],
      "execution_count": 0,
      "outputs": [
        {
          "output_type": "stream",
          "text": [
            "is\n",
            "short\n"
          ],
          "name": "stdout"
        }
      ]
    },
    {
      "cell_type": "code",
      "metadata": {
        "id": "wbzhVK-0Wvkp",
        "colab_type": "code",
        "outputId": "958c57d7-bc85-48de-975e-699b39cd6999",
        "colab": {
          "base_uri": "https://localhost:8080/",
          "height": 70
        }
      },
      "source": [
        "# : 의 사용\n",
        "print(a[:4])\n",
        "print(a[19:])\n",
        "print(a[:17])"
      ],
      "execution_count": 0,
      "outputs": [
        {
          "output_type": "stream",
          "text": [
            "Life\n",
            "You need Python\n",
            "Life is too short\n"
          ],
          "name": "stdout"
        }
      ]
    },
    {
      "cell_type": "code",
      "metadata": {
        "id": "xTir1mFjWa1c",
        "colab_type": "code",
        "colab": {}
      },
      "source": [
        "a[:]"
      ],
      "execution_count": 0,
      "outputs": []
    },
    {
      "cell_type": "code",
      "metadata": {
        "id": "sdcWkqQ-HMH1",
        "colab_type": "code",
        "outputId": "9aabf490-fb09-4719-e3e9-783c1a71ebc4",
        "colab": {
          "base_uri": "https://localhost:8080/",
          "height": 172
        }
      },
      "source": [
        "# a[19:-7] ?\n",
        "a[19:-7]"
      ],
      "execution_count": 0,
      "outputs": [
        {
          "output_type": "error",
          "ename": "NameError",
          "evalue": "ignored",
          "traceback": [
            "\u001b[0;31m---------------------------------------------------------------------------\u001b[0m",
            "\u001b[0;31mNameError\u001b[0m                                 Traceback (most recent call last)",
            "\u001b[0;32m<ipython-input-1-887a567b48a5>\u001b[0m in \u001b[0;36m<module>\u001b[0;34m()\u001b[0m\n\u001b[0;32m----> 1\u001b[0;31m \u001b[0ma\u001b[0m\u001b[0;34m[\u001b[0m\u001b[0;36m19\u001b[0m\u001b[0;34m:\u001b[0m\u001b[0;34m-\u001b[0m\u001b[0;36m7\u001b[0m\u001b[0;34m]\u001b[0m\u001b[0;34m\u001b[0m\u001b[0;34m\u001b[0m\u001b[0m\n\u001b[0m",
            "\u001b[0;31mNameError\u001b[0m: name 'a' is not defined"
          ]
        }
      ]
    },
    {
      "cell_type": "code",
      "metadata": {
        "id": "909RCzrSHo-g",
        "colab_type": "code",
        "outputId": "260df4c1-1b27-48ec-8cec-ee1f93adff4e",
        "colab": {
          "base_uri": "https://localhost:8080/",
          "height": 53
        }
      },
      "source": [
        "print(\"문자열: 슬라이싱 응용?\")\n",
        "a = \"20190909Sunny\"\n",
        "date = a[:8]\n",
        "weather = a[8:]\n",
        "date, weather"
      ],
      "execution_count": 0,
      "outputs": [
        {
          "output_type": "stream",
          "text": [
            "문자열: 슬라이싱 응용?\n"
          ],
          "name": "stdout"
        },
        {
          "output_type": "execute_result",
          "data": {
            "text/plain": [
              "('20190909', 'Sunny')"
            ]
          },
          "metadata": {
            "tags": []
          },
          "execution_count": 2
        }
      ]
    },
    {
      "cell_type": "code",
      "metadata": {
        "id": "w0SP840rH7Lx",
        "colab_type": "code",
        "outputId": "86e16269-9f31-40dd-c053-a9b3a4843eb2",
        "colab": {
          "base_uri": "https://localhost:8080/",
          "height": 35
        }
      },
      "source": [
        "a = \"20190917Rainy\"\n",
        "year = a[:4]\n",
        "day = a[4:8]\n",
        "weather = a[8:]\n",
        "year,day,weather"
      ],
      "execution_count": 0,
      "outputs": [
        {
          "output_type": "execute_result",
          "data": {
            "text/plain": [
              "('2019', '0917', 'Rainy')"
            ]
          },
          "metadata": {
            "tags": []
          },
          "execution_count": 3
        }
      ]
    },
    {
      "cell_type": "code",
      "metadata": {
        "id": "PsWGkPGHIe2e",
        "colab_type": "code",
        "colab": {
          "base_uri": "https://localhost:8080/",
          "height": 205
        },
        "outputId": "492abc17-47bf-4bf0-c891-7847b30248db"
      },
      "source": [
        "# \"Pithon\"이라는 문자열을 \"Python\"으로 바꾸려면?\n",
        "a = \"Pithon\"\n",
        "a[1]\n",
        "a[1] = 'y'  # Error (immutable한 자료형)"
      ],
      "execution_count": 3,
      "outputs": [
        {
          "output_type": "error",
          "ename": "TypeError",
          "evalue": "ignored",
          "traceback": [
            "\u001b[0;31m---------------------------------------------------------------------------\u001b[0m",
            "\u001b[0;31mTypeError\u001b[0m                                 Traceback (most recent call last)",
            "\u001b[0;32m<ipython-input-3-33385945aab6>\u001b[0m in \u001b[0;36m<module>\u001b[0;34m()\u001b[0m\n\u001b[1;32m      1\u001b[0m \u001b[0ma\u001b[0m \u001b[0;34m=\u001b[0m \u001b[0;34m\"Pithon\"\u001b[0m\u001b[0;34m\u001b[0m\u001b[0;34m\u001b[0m\u001b[0m\n\u001b[1;32m      2\u001b[0m \u001b[0ma\u001b[0m\u001b[0;34m[\u001b[0m\u001b[0;36m1\u001b[0m\u001b[0;34m]\u001b[0m\u001b[0;34m\u001b[0m\u001b[0;34m\u001b[0m\u001b[0m\n\u001b[0;32m----> 3\u001b[0;31m \u001b[0ma\u001b[0m\u001b[0;34m[\u001b[0m\u001b[0;36m1\u001b[0m\u001b[0;34m]\u001b[0m \u001b[0;34m=\u001b[0m \u001b[0;34m'y'\u001b[0m  \u001b[0;31m# Error (immutable한 자료형)\u001b[0m\u001b[0;34m\u001b[0m\u001b[0;34m\u001b[0m\u001b[0m\n\u001b[0m",
            "\u001b[0;31mTypeError\u001b[0m: 'str' object does not support item assignment"
          ]
        }
      ]
    },
    {
      "cell_type": "code",
      "metadata": {
        "id": "7-aM3UFVI6B3",
        "colab_type": "code",
        "colab": {
          "base_uri": "https://localhost:8080/",
          "height": 34
        },
        "outputId": "a11ad038-c5b1-4df8-f1d0-1eee610d7b82"
      },
      "source": [
        "\n",
        "#################\n",
        "a = \"Pithon\"\n",
        "a[:1]\n",
        "a[2:]\n",
        "a[:1] + 'y' + a[2:]  # Python\n"
      ],
      "execution_count": 2,
      "outputs": [
        {
          "output_type": "execute_result",
          "data": {
            "text/plain": [
              "'Python'"
            ]
          },
          "metadata": {
            "tags": []
          },
          "execution_count": 2
        }
      ]
    },
    {
      "cell_type": "code",
      "metadata": {
        "id": "0_aoWauTEjRR",
        "colab_type": "code",
        "colab": {
          "base_uri": "https://localhost:8080/",
          "height": 52
        },
        "outputId": "ec231713-7333-4430-c24e-2ec8d02c6de7"
      },
      "source": [
        "# ch2_03_string_formating.py\n",
        "\n",
        "print(\"문자열: 포매팅이란?\")\n",
        "# 1. 숫자 바로 대입\n",
        "\"I eat %d apples.\" % 3"
      ],
      "execution_count": 1,
      "outputs": [
        {
          "output_type": "stream",
          "text": [
            "문자열: 포매팅이란?\n"
          ],
          "name": "stdout"
        },
        {
          "output_type": "execute_result",
          "data": {
            "text/plain": [
              "'I eat 3 apples.'"
            ]
          },
          "metadata": {
            "tags": []
          },
          "execution_count": 1
        }
      ]
    },
    {
      "cell_type": "code",
      "metadata": {
        "id": "Y2PwoDyve0Tl",
        "colab_type": "code",
        "colab": {
          "base_uri": "https://localhost:8080/",
          "height": 34
        },
        "outputId": "1d1bdef4-dc18-4498-ceb1-3f4a30ee8f1e"
      },
      "source": [
        "\n",
        "# 2. 문자열 바로 대입\n",
        "\"I eat %s apples.\" % \"five\""
      ],
      "execution_count": 4,
      "outputs": [
        {
          "output_type": "execute_result",
          "data": {
            "text/plain": [
              "'I eat five apples.'"
            ]
          },
          "metadata": {
            "tags": []
          },
          "execution_count": 4
        }
      ]
    },
    {
      "cell_type": "code",
      "metadata": {
        "id": "yePeKdzHe5nx",
        "colab_type": "code",
        "colab": {
          "base_uri": "https://localhost:8080/",
          "height": 34
        },
        "outputId": "15019b2d-2422-4b0b-f31e-8a4ae55fa72c"
      },
      "source": [
        "# 3. 숫자 값을 나타내는 변수로 대입\n",
        "number = 3\n",
        "\"I eat %d apples.\" % number"
      ],
      "execution_count": 5,
      "outputs": [
        {
          "output_type": "execute_result",
          "data": {
            "text/plain": [
              "'I eat 3 apples.'"
            ]
          },
          "metadata": {
            "tags": []
          },
          "execution_count": 5
        }
      ]
    },
    {
      "cell_type": "code",
      "metadata": {
        "id": "NbiRrZCHe9EK",
        "colab_type": "code",
        "colab": {
          "base_uri": "https://localhost:8080/",
          "height": 34
        },
        "outputId": "f44a840f-5ff0-4c50-8601-d326c7dc6484"
      },
      "source": [
        "# 4. 2개 이상의 값 넣기\n",
        "number = 10\n",
        "day = \"three\"\n",
        "# \"I ate %d apples. so I was sick for %s days.\" % number  # , day   # Error\n",
        "\"I ate %d apples. so I was sick for %s days.\" % (number, day)\n",
        "# 소괄호 안에 콤마(,)로 구분하여 각각의 값을 넣어 준다."
      ],
      "execution_count": 7,
      "outputs": [
        {
          "output_type": "execute_result",
          "data": {
            "text/plain": [
              "'I ate 10 apples. so I was sick for three days.'"
            ]
          },
          "metadata": {
            "tags": []
          },
          "execution_count": 7
        }
      ]
    },
    {
      "cell_type": "code",
      "metadata": {
        "id": "Cx4IBNaYfTiq",
        "colab_type": "code",
        "colab": {
          "base_uri": "https://localhost:8080/",
          "height": 52
        },
        "outputId": "cd4703db-2a7b-4741-a760-092674e6184a"
      },
      "source": [
        "print(\"문자열: 포맷 코드\")\n",
        "# %d, %s, %c, %f, %o, %x, %%\n",
        "# %s, 묵시적 형변환\n",
        "\"I have %s apples\" % 3\n",
        "\"rate is %s\" % 3.234\n",
        "\n",
        "# \"Error is %d%.\" % 98\n",
        "\"Error is %d%%.\" % 98\n",
        "\n",
        "###############################################-p60"
      ],
      "execution_count": 9,
      "outputs": [
        {
          "output_type": "stream",
          "text": [
            "문자열: 포맷 코드\n"
          ],
          "name": "stdout"
        },
        {
          "output_type": "execute_result",
          "data": {
            "text/plain": [
              "'Error is 98%.'"
            ]
          },
          "metadata": {
            "tags": []
          },
          "execution_count": 9
        }
      ]
    },
    {
      "cell_type": "code",
      "metadata": {
        "id": "mcmoSR7hfl2A",
        "colab_type": "code",
        "colab": {
          "base_uri": "https://localhost:8080/",
          "height": 52
        },
        "outputId": "adf1c3d9-9d1d-4b68-bd7e-214f4bd8d550"
      },
      "source": [
        "print(\"문자열: 포맷 코드와 숫자 함께 사용하기\")\n",
        "# 1. 정렬과 공백\n",
        "\"%10s\" % \"hi\"\n",
        "\"%-10sjane.\" % \"hi\""
      ],
      "execution_count": 11,
      "outputs": [
        {
          "output_type": "stream",
          "text": [
            "문자열: 포맷 코드와 숫자 함께 사용하기\n"
          ],
          "name": "stdout"
        },
        {
          "output_type": "execute_result",
          "data": {
            "text/plain": [
              "'hi        jane.'"
            ]
          },
          "metadata": {
            "tags": []
          },
          "execution_count": 11
        }
      ]
    },
    {
      "cell_type": "code",
      "metadata": {
        "id": "hyh-31hFfyHR",
        "colab_type": "code",
        "colab": {
          "base_uri": "https://localhost:8080/",
          "height": 34
        },
        "outputId": "b1a38057-4db7-427f-8dc0-7695b46ea1cb"
      },
      "source": [
        "# 2. 소수점 표현하기\n",
        "\"%0.4f\" % 3.42134234\n",
        "\"%10.4f\" % 3.42134234"
      ],
      "execution_count": 12,
      "outputs": [
        {
          "output_type": "execute_result",
          "data": {
            "text/plain": [
              "'    3.4213'"
            ]
          },
          "metadata": {
            "tags": []
          },
          "execution_count": 12
        }
      ]
    },
    {
      "cell_type": "code",
      "metadata": {
        "id": "XhkQs25HfuYN",
        "colab_type": "code",
        "colab": {
          "base_uri": "https://localhost:8080/",
          "height": 52
        },
        "outputId": "240152f7-baa2-4c3e-94b3-06a8faec5df8"
      },
      "source": [
        "print(\"문자열: format 함수를 사용한 포매팅\")\n",
        "# 1. 숫자 바로 대입하기\n",
        "\"I eat {0} apples\".format(3)\n",
        "\"I eat {0} {1} apples\".format(3, 4)"
      ],
      "execution_count": 13,
      "outputs": [
        {
          "output_type": "stream",
          "text": [
            "문자열: format 함수를 사용한 포매팅\n"
          ],
          "name": "stdout"
        },
        {
          "output_type": "execute_result",
          "data": {
            "text/plain": [
              "'I eat 3 4 apples'"
            ]
          },
          "metadata": {
            "tags": []
          },
          "execution_count": 13
        }
      ]
    },
    {
      "cell_type": "code",
      "metadata": {
        "id": "Usj6WDEGf2Xc",
        "colab_type": "code",
        "colab": {
          "base_uri": "https://localhost:8080/",
          "height": 34
        },
        "outputId": "07f5c9be-5333-469f-c5c2-aa1b3a0fd183"
      },
      "source": [
        "# 2. 문자열 바로 대입하기\n",
        "\"I eat {0} apples\".format(\"five\")\n",
        "\"I eat {0} apples from {1} boxes\".format(\"five\", \"three\")"
      ],
      "execution_count": 14,
      "outputs": [
        {
          "output_type": "execute_result",
          "data": {
            "text/plain": [
              "'I eat five apples from three boxes'"
            ]
          },
          "metadata": {
            "tags": []
          },
          "execution_count": 14
        }
      ]
    },
    {
      "cell_type": "code",
      "metadata": {
        "id": "1C7Uq95bf6H_",
        "colab_type": "code",
        "colab": {
          "base_uri": "https://localhost:8080/",
          "height": 34
        },
        "outputId": "4b80728d-5af0-428f-9510-171ab4ca3bbc"
      },
      "source": [
        "# 3. 숫자 값을 가진 변수로 대입하기\n",
        "number = 3\n",
        "\"I eat {0} apples\".format(number)\n",
        "\"I eat {0} apples\".format(number + 1)"
      ],
      "execution_count": 15,
      "outputs": [
        {
          "output_type": "execute_result",
          "data": {
            "text/plain": [
              "'I eat 4 apples'"
            ]
          },
          "metadata": {
            "tags": []
          },
          "execution_count": 15
        }
      ]
    },
    {
      "cell_type": "code",
      "metadata": {
        "id": "QB8E_RS_f8wd",
        "colab_type": "code",
        "colab": {
          "base_uri": "https://localhost:8080/",
          "height": 34
        },
        "outputId": "e0822cbb-b465-490f-facc-0519f65e44c9"
      },
      "source": [
        "# 2개 이상의 값 넣기\n",
        "number = 10\n",
        "day = \"three\"\n",
        "\"I ate {0} apples. so I was sick for {1} days.\".format(number, day)"
      ],
      "execution_count": 16,
      "outputs": [
        {
          "output_type": "execute_result",
          "data": {
            "text/plain": [
              "'I ate 10 apples. so I was sick for three days.'"
            ]
          },
          "metadata": {
            "tags": []
          },
          "execution_count": 16
        }
      ]
    },
    {
      "cell_type": "code",
      "metadata": {
        "id": "gzhX-r0mf_3P",
        "colab_type": "code",
        "colab": {
          "base_uri": "https://localhost:8080/",
          "height": 34
        },
        "outputId": "27ea51af-4ce9-4155-81c8-f9d5ab18892a"
      },
      "source": [
        "# 이름으로 넣기\n",
        "\"I ate {number} apples. so I was sick for {day} days.\".format(number=10, day=3)"
      ],
      "execution_count": 17,
      "outputs": [
        {
          "output_type": "execute_result",
          "data": {
            "text/plain": [
              "'I ate 10 apples. so I was sick for 3 days.'"
            ]
          },
          "metadata": {
            "tags": []
          },
          "execution_count": 17
        }
      ]
    },
    {
      "cell_type": "code",
      "metadata": {
        "id": "eHdKj1RLgCrv",
        "colab_type": "code",
        "colab": {
          "base_uri": "https://localhost:8080/",
          "height": 34
        },
        "outputId": "91104696-33b5-4806-87bf-0c99e7fb44c8"
      },
      "source": [
        "# 인덱스와 이름을 혼용해서 넣기\n",
        "\"I ate {0} apples. so I was sick for {day} days.\".format(10, day=3)"
      ],
      "execution_count": 18,
      "outputs": [
        {
          "output_type": "execute_result",
          "data": {
            "text/plain": [
              "'I ate 10 apples. so I was sick for 3 days.'"
            ]
          },
          "metadata": {
            "tags": []
          },
          "execution_count": 18
        }
      ]
    },
    {
      "cell_type": "code",
      "metadata": {
        "id": "LgRvvQFngE90",
        "colab_type": "code",
        "colab": {
          "base_uri": "https://localhost:8080/",
          "height": 34
        },
        "outputId": "60dfe30d-9b80-4a5b-a926-fbae5b67ee00"
      },
      "source": [
        "######################################\n",
        "# 왼쪽 정렬/ 오른쪽 정렬\n",
        "\"{0:<10}\".format(\"hi\"), \"{0:>10}\".format(\"hi\")"
      ],
      "execution_count": 20,
      "outputs": [
        {
          "output_type": "execute_result",
          "data": {
            "text/plain": [
              "('hi        ', '        hi')"
            ]
          },
          "metadata": {
            "tags": []
          },
          "execution_count": 20
        }
      ]
    },
    {
      "cell_type": "code",
      "metadata": {
        "id": "m5kIMDMMgIuE",
        "colab_type": "code",
        "colab": {
          "base_uri": "https://localhost:8080/",
          "height": 34
        },
        "outputId": "e9db9273-295c-42eb-f7ae-a6e15718a456"
      },
      "source": [
        "# 가운데 정렬\n",
        "\"{0:^10}\".format(\"hi\")"
      ],
      "execution_count": 21,
      "outputs": [
        {
          "output_type": "execute_result",
          "data": {
            "text/plain": [
              "'    hi    '"
            ]
          },
          "metadata": {
            "tags": []
          },
          "execution_count": 21
        }
      ]
    },
    {
      "cell_type": "code",
      "metadata": {
        "id": "-QYHb8QvgOGu",
        "colab_type": "code",
        "colab": {
          "base_uri": "https://localhost:8080/",
          "height": 34
        },
        "outputId": "47b049cf-8c7a-40f4-d9e6-044efbd38370"
      },
      "source": [
        "# 공백 채우기\n",
        "\"{0:=^10}\".format(\"hi\"), \"{0:!<10}\".format(\"hi\")"
      ],
      "execution_count": 23,
      "outputs": [
        {
          "output_type": "execute_result",
          "data": {
            "text/plain": [
              "('====hi====', 'hi!!!!!!!!')"
            ]
          },
          "metadata": {
            "tags": []
          },
          "execution_count": 23
        }
      ]
    },
    {
      "cell_type": "code",
      "metadata": {
        "id": "t2B3F_qdgSEF",
        "colab_type": "code",
        "colab": {}
      },
      "source": [
        "# 도전하기\n",
        "# \"{0:<10}{1:>10}\".format(\"hi\",'hcit')\n",
        "\n",
        "#########################################"
      ],
      "execution_count": 0,
      "outputs": []
    },
    {
      "cell_type": "code",
      "metadata": {
        "id": "eyIAY8pWgV9_",
        "colab_type": "code",
        "colab": {
          "base_uri": "https://localhost:8080/",
          "height": 34
        },
        "outputId": "767e6511-01df-4901-ab92-9c2135a4c21c"
      },
      "source": [
        "# 소수점 표현하기\n",
        "y = 3.42134234\n",
        "\"{0:0.4f}\".format(y), \"{0:10.4f}\".format(y)"
      ],
      "execution_count": 25,
      "outputs": [
        {
          "output_type": "execute_result",
          "data": {
            "text/plain": [
              "('3.4213', '    3.4213')"
            ]
          },
          "metadata": {
            "tags": []
          },
          "execution_count": 25
        }
      ]
    },
    {
      "cell_type": "code",
      "metadata": {
        "id": "RvU63hSEgXrg",
        "colab_type": "code",
        "colab": {
          "base_uri": "https://localhost:8080/",
          "height": 34
        },
        "outputId": "6db680e7-4f95-4e6c-eb3f-72389e4f4156"
      },
      "source": [
        "# { 또는 } 문자 표현하기\n",
        "\"{{ and }}\".format()"
      ],
      "execution_count": 26,
      "outputs": [
        {
          "output_type": "execute_result",
          "data": {
            "text/plain": [
              "'{ and }'"
            ]
          },
          "metadata": {
            "tags": []
          },
          "execution_count": 26
        }
      ]
    },
    {
      "cell_type": "code",
      "metadata": {
        "id": "js0E9QT6gbVi",
        "colab_type": "code",
        "colab": {
          "base_uri": "https://localhost:8080/",
          "height": 52
        },
        "outputId": "592ecbcd-9203-4f2d-9ee1-3fb5c944cb92"
      },
      "source": [
        "##########################\n",
        "##### f 문자열 포매팅 #####\n",
        "##### .format() 대체\n",
        "##########################\n",
        "print(\"문자열: f 문자열 포매팅\")\n",
        "name = \"홍길동\"\n",
        "age = 30\n",
        "f\"나의 이름은 {name}입니다. 나이는 {age}입니다.\""
      ],
      "execution_count": 27,
      "outputs": [
        {
          "output_type": "stream",
          "text": [
            "문자열: f 문자열 포매팅\n"
          ],
          "name": "stdout"
        },
        {
          "output_type": "execute_result",
          "data": {
            "text/plain": [
              "'나의 이름은 홍길동입니다. 나이는 30입니다.'"
            ]
          },
          "metadata": {
            "tags": []
          },
          "execution_count": 27
        }
      ]
    },
    {
      "cell_type": "code",
      "metadata": {
        "id": "xpeb6dQ2ggYj",
        "colab_type": "code",
        "colab": {
          "base_uri": "https://localhost:8080/",
          "height": 34
        },
        "outputId": "79607fb5-78a6-48d3-8f68-baa7e0635dde"
      },
      "source": [
        "age = 30\n",
        "f\"나는 내년이면 {age+1}살이 된다.\""
      ],
      "execution_count": 28,
      "outputs": [
        {
          "output_type": "execute_result",
          "data": {
            "text/plain": [
              "'나는 내년이면 31살이 된다.'"
            ]
          },
          "metadata": {
            "tags": []
          },
          "execution_count": 28
        }
      ]
    },
    {
      "cell_type": "code",
      "metadata": {
        "id": "rt1_jfr4gi4B",
        "colab_type": "code",
        "colab": {
          "base_uri": "https://localhost:8080/",
          "height": 34
        },
        "outputId": "138dd345-e29b-4f38-c879-280bc50becd8"
      },
      "source": [
        "# 딕셔너리는 f 문자열 포매팅에서 다음과 같이 사용\n",
        "d = {\"name\": \"홍길동\", \"age\": 30}\n",
        "f'나의 이름은 {d[\"name\"]}입니다. 나이는 {d[\"age\"]}입니다.'"
      ],
      "execution_count": 29,
      "outputs": [
        {
          "output_type": "execute_result",
          "data": {
            "text/plain": [
              "'나의 이름은 홍길동입니다. 나이는 30입니다.'"
            ]
          },
          "metadata": {
            "tags": []
          },
          "execution_count": 29
        }
      ]
    },
    {
      "cell_type": "code",
      "metadata": {
        "id": "n9pdbgQjglEx",
        "colab_type": "code",
        "colab": {
          "base_uri": "https://localhost:8080/",
          "height": 34
        },
        "outputId": "2e18b2d9-7871-45e4-81f5-90bb70a2e6ec"
      },
      "source": [
        "# 정렬\n",
        "f'{\"hi\":<10}'  # 왼쪽 정렬\n",
        "f'{\"hi\":>10}'  # 오른쪽 정렬\n",
        "f'{\"hi\":^10}'  # 가운데 정렬"
      ],
      "execution_count": 30,
      "outputs": [
        {
          "output_type": "execute_result",
          "data": {
            "text/plain": [
              "'    hi    '"
            ]
          },
          "metadata": {
            "tags": []
          },
          "execution_count": 30
        }
      ]
    },
    {
      "cell_type": "code",
      "metadata": {
        "id": "sZnAkKP-gn5W",
        "colab_type": "code",
        "colab": {
          "base_uri": "https://localhost:8080/",
          "height": 34
        },
        "outputId": "f27bad2f-5eea-45ab-b40d-0d7c0e6e6976"
      },
      "source": [
        "# 공백 채우기\n",
        "y = 3.42134234\n",
        "f\"{y:0.4f}\"  # 소수점 4자리까지만 표현\n",
        "f\"{y:10.4f}\"  # 소수점 4자리까지 표현하고 총 자리수를 10으로 맞춤"
      ],
      "execution_count": 31,
      "outputs": [
        {
          "output_type": "execute_result",
          "data": {
            "text/plain": [
              "'    3.4213'"
            ]
          },
          "metadata": {
            "tags": []
          },
          "execution_count": 31
        }
      ]
    },
    {
      "cell_type": "code",
      "metadata": {
        "id": "j7pOQYKCgsPB",
        "colab_type": "code",
        "colab": {
          "base_uri": "https://localhost:8080/",
          "height": 34
        },
        "outputId": "e4e465d0-375f-4fe5-ac30-5141e89af027"
      },
      "source": [
        "# { } 문자를 표시\n",
        "f\"{{ and }}\""
      ],
      "execution_count": 32,
      "outputs": [
        {
          "output_type": "execute_result",
          "data": {
            "text/plain": [
              "'{ and }'"
            ]
          },
          "metadata": {
            "tags": []
          },
          "execution_count": 32
        }
      ]
    },
    {
      "cell_type": "code",
      "metadata": {
        "id": "YU2AfiCEhCmn",
        "colab_type": "code",
        "colab": {
          "base_uri": "https://localhost:8080/",
          "height": 52
        },
        "outputId": "0119f915-a646-4e6e-cc6a-ba34442aaf3b"
      },
      "source": [
        "##############################################\n",
        "print(\"문자열: 관련 내장 함수들\")\n",
        "# 문자 개수 세기(count)\n",
        "a = \"hobby\"\n",
        "a.count(\"b\")"
      ],
      "execution_count": 33,
      "outputs": [
        {
          "output_type": "stream",
          "text": [
            "문자열: 관련 내장 함수들\n"
          ],
          "name": "stdout"
        },
        {
          "output_type": "execute_result",
          "data": {
            "text/plain": [
              "2"
            ]
          },
          "metadata": {
            "tags": []
          },
          "execution_count": 33
        }
      ]
    },
    {
      "cell_type": "code",
      "metadata": {
        "id": "ng9cjxudhGDG",
        "colab_type": "code",
        "colab": {
          "base_uri": "https://localhost:8080/",
          "height": 34
        },
        "outputId": "930ddc3c-d7c9-483b-b300-088e507c2f5e"
      },
      "source": [
        "# 위치 알려주기1(find)\n",
        "a = \"Python is the best choice\"\n",
        "a.find(\"b\")\n",
        "a.find(\"k\")  # what value?"
      ],
      "execution_count": 34,
      "outputs": [
        {
          "output_type": "execute_result",
          "data": {
            "text/plain": [
              "-1"
            ]
          },
          "metadata": {
            "tags": []
          },
          "execution_count": 34
        }
      ]
    },
    {
      "cell_type": "code",
      "metadata": {
        "id": "6QBuR1tXhISP",
        "colab_type": "code",
        "colab": {
          "base_uri": "https://localhost:8080/",
          "height": 34
        },
        "outputId": "cd262807-ec6f-48b5-a8ec-68cdcfaf9db3"
      },
      "source": [
        "# 위치 알려주기2(index)\n",
        "a = \"Life is too short\"\n",
        "a.index(\"t\")\n",
        "# a.index(\"k\") #Error"
      ],
      "execution_count": 36,
      "outputs": [
        {
          "output_type": "execute_result",
          "data": {
            "text/plain": [
              "8"
            ]
          },
          "metadata": {
            "tags": []
          },
          "execution_count": 36
        }
      ]
    },
    {
      "cell_type": "code",
      "metadata": {
        "id": "VuO4nBSvhKyR",
        "colab_type": "code",
        "colab": {
          "base_uri": "https://localhost:8080/",
          "height": 34
        },
        "outputId": "49dc4445-ba22-4df7-ec62-2b342889ea98"
      },
      "source": [
        "# 문자열 삽입(join)\n",
        "\",\".join(\"abcd\")\n",
        "\",\".join([\"a\", \"b\", \"c\", \"d\"])"
      ],
      "execution_count": 37,
      "outputs": [
        {
          "output_type": "execute_result",
          "data": {
            "text/plain": [
              "'a,b,c,d'"
            ]
          },
          "metadata": {
            "tags": []
          },
          "execution_count": 37
        }
      ]
    },
    {
      "cell_type": "code",
      "metadata": {
        "id": "hJCdCmd7hV-P",
        "colab_type": "code",
        "colab": {
          "base_uri": "https://localhost:8080/",
          "height": 34
        },
        "outputId": "da6f5304-54a8-4556-9c5e-2e1f72199e17"
      },
      "source": [
        "# 소문자를 대문자로 바꾸기(upper)\n",
        "a = \"hi\"\n",
        "a.upper()"
      ],
      "execution_count": 38,
      "outputs": [
        {
          "output_type": "execute_result",
          "data": {
            "text/plain": [
              "'HI'"
            ]
          },
          "metadata": {
            "tags": []
          },
          "execution_count": 38
        }
      ]
    },
    {
      "cell_type": "code",
      "metadata": {
        "id": "9TZo-nxQhXh5",
        "colab_type": "code",
        "colab": {
          "base_uri": "https://localhost:8080/",
          "height": 34
        },
        "outputId": "b6f3dfcc-0fee-4afd-bd94-f6edb5a6e7cd"
      },
      "source": [
        "# 대문자를 소문자로 바꾸기(lower)\n",
        "a = \"IoT\"\n",
        "a.lower()"
      ],
      "execution_count": 39,
      "outputs": [
        {
          "output_type": "execute_result",
          "data": {
            "text/plain": [
              "'iot'"
            ]
          },
          "metadata": {
            "tags": []
          },
          "execution_count": 39
        }
      ]
    },
    {
      "cell_type": "code",
      "metadata": {
        "id": "oazPgKcvhZlg",
        "colab_type": "code",
        "colab": {
          "base_uri": "https://localhost:8080/",
          "height": 34
        },
        "outputId": "48472ff1-6b09-44f3-9ae2-5678077e3386"
      },
      "source": [
        "# 왼쪽 공백 지우기(lstrip)\n",
        "a = \" hi \"\n",
        "a.lstrip()"
      ],
      "execution_count": 40,
      "outputs": [
        {
          "output_type": "execute_result",
          "data": {
            "text/plain": [
              "'hi '"
            ]
          },
          "metadata": {
            "tags": []
          },
          "execution_count": 40
        }
      ]
    },
    {
      "cell_type": "code",
      "metadata": {
        "id": "6-uv6Wzahbyv",
        "colab_type": "code",
        "colab": {
          "base_uri": "https://localhost:8080/",
          "height": 34
        },
        "outputId": "679eb04e-3384-4fab-bcdb-eeb1f432aae5"
      },
      "source": [
        "# 오른쪽 공백 지우기(rstrip)\n",
        "a.rstrip()"
      ],
      "execution_count": 41,
      "outputs": [
        {
          "output_type": "execute_result",
          "data": {
            "text/plain": [
              "' hi'"
            ]
          },
          "metadata": {
            "tags": []
          },
          "execution_count": 41
        }
      ]
    },
    {
      "cell_type": "code",
      "metadata": {
        "id": "7HkA44M0heep",
        "colab_type": "code",
        "colab": {
          "base_uri": "https://localhost:8080/",
          "height": 34
        },
        "outputId": "581389b9-2042-43e7-83b0-7cb76826c93a"
      },
      "source": [
        "# 양쪽 공백 지우기(strip)\n",
        "a.strip()"
      ],
      "execution_count": 42,
      "outputs": [
        {
          "output_type": "execute_result",
          "data": {
            "text/plain": [
              "'hi'"
            ]
          },
          "metadata": {
            "tags": []
          },
          "execution_count": 42
        }
      ]
    },
    {
      "cell_type": "code",
      "metadata": {
        "id": "GogXml1uhh7P",
        "colab_type": "code",
        "colab": {
          "base_uri": "https://localhost:8080/",
          "height": 34
        },
        "outputId": "c092a32d-bf8e-44c9-f7aa-026ae00969aa"
      },
      "source": [
        "# 문자열 바꾸기(replace)\n",
        "a = \"Life is too short\"\n",
        "a.replace(\"Life\", \"Your leg\")"
      ],
      "execution_count": 43,
      "outputs": [
        {
          "output_type": "execute_result",
          "data": {
            "text/plain": [
              "'Your leg is too short'"
            ]
          },
          "metadata": {
            "tags": []
          },
          "execution_count": 43
        }
      ]
    },
    {
      "cell_type": "code",
      "metadata": {
        "id": "5rAhgguXhkys",
        "colab_type": "code",
        "colab": {
          "base_uri": "https://localhost:8080/",
          "height": 34
        },
        "outputId": "03f58aa0-e8f0-4c51-c764-0ec6cef764c1"
      },
      "source": [
        "# 문자열 나누기(split) -> 리스트로 변환하여 반환\n",
        "a = \"Life is too short\"\n",
        "a.split()\n",
        "b = \"a:b:c:d\"\n",
        "b.split(\":\")"
      ],
      "execution_count": 44,
      "outputs": [
        {
          "output_type": "execute_result",
          "data": {
            "text/plain": [
              "['a', 'b', 'c', 'd']"
            ]
          },
          "metadata": {
            "tags": []
          },
          "execution_count": 44
        }
      ]
    },
    {
      "cell_type": "code",
      "metadata": {
        "id": "v-xfoKQNhmum",
        "colab_type": "code",
        "colab": {
          "base_uri": "https://localhost:8080/",
          "height": 34
        },
        "outputId": "70b0b7ce-7264-48ce-d09c-55ef1a3341cd"
      },
      "source": [
        "#### 도전하기 #####\n",
        "# format 함수 또는 f 문자열 포매팅을 이용해서 '!!!python!!!' 문자열을 출력해보시오.\n",
        "\"{0:!^12}\".format(\"python\")\n",
        "f'{\"python\":!^12}'"
      ],
      "execution_count": 45,
      "outputs": [
        {
          "output_type": "execute_result",
          "data": {
            "text/plain": [
              "'!!!python!!!'"
            ]
          },
          "metadata": {
            "tags": []
          },
          "execution_count": 45
        }
      ]
    }
  ]
}