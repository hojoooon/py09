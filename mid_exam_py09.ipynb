{
  "nbformat": 4,
  "nbformat_minor": 0,
  "metadata": {
    "colab": {
      "name": "mid_exam_py09.ipynb",
      "provenance": [],
      "collapsed_sections": [],
      "authorship_tag": "ABX9TyPfv6gA8WXhZN0nvjXbLQqc",
      "include_colab_link": true
    },
    "kernelspec": {
      "name": "python3",
      "display_name": "Python 3"
    }
  },
  "cells": [
    {
      "cell_type": "markdown",
      "metadata": {
        "id": "view-in-github",
        "colab_type": "text"
      },
      "source": [
        "<a href=\"https://colab.research.google.com/github/hojoooon/py09/blob/master/mid_exam_py09.ipynb\" target=\"_parent\"><img src=\"https://colab.research.google.com/assets/colab-badge.svg\" alt=\"Open In Colab\"/></a>"
      ]
    },
    {
      "cell_type": "markdown",
      "metadata": {
        "id": "03YlIM_ir9Bj",
        "colab_type": "text"
      },
      "source": [
        "## 파이썬 활용 중간고사 풀이"
      ]
    },
    {
      "cell_type": "markdown",
      "metadata": {
        "id": "4g3rtlyQsDNQ",
        "colab_type": "text"
      },
      "source": [
        "### 문제1. 다음 식의 연산 결과는?\n",
        "            a = 5\n",
        "            b = 3\n",
        "            a**b"
      ]
    },
    {
      "cell_type": "code",
      "metadata": {
        "id": "nUGeO-0krx_F",
        "colab_type": "code",
        "colab": {}
      },
      "source": [
        "답은 125입니다. 왜냐하면 5**3은 5의 세제곱을 나타내는 코드이기 때문입니다."
      ],
      "execution_count": 0,
      "outputs": []
    },
    {
      "cell_type": "markdown",
      "metadata": {
        "id": "7Yg35DNLuNNx",
        "colab_type": "text"
      },
      "source": [
        "## 문제2. 다음 문자열 a에 대하여 슬라이싱을 한 결과는? a=\"Life is too short, You need python!\"\n",
        "            a[-16:-8]"
      ]
    },
    {
      "cell_type": "code",
      "metadata": {
        "id": "HCelUMowtcir",
        "colab_type": "code",
        "colab": {}
      },
      "source": [
        "답은 'You need'입니다. [-16:-8] 은 뒤에서 16번째부터 뒤에서 8번째까지의 문자를 뜻하기 때문입니다."
      ],
      "execution_count": 0,
      "outputs": []
    },
    {
      "cell_type": "markdown",
      "metadata": {
        "id": "Jh26PgVZw-ml",
        "colab_type": "text"
      },
      "source": [
        "### 문제3. 다음 list a의 인덱싱 결과는?\n",
        "          a = [1,2, (3,4), ['a', 'b',['My', 'Life', 'Good']]]\n",
        "          a[3][-1][0]"
      ]
    },
    {
      "cell_type": "code",
      "metadata": {
        "id": "k79sdVNjxp3b",
        "colab_type": "code",
        "colab": {}
      },
      "source": [
        "담은 'My' 입니다. a[3][-1][0]은 리스트a 의 3번째 요소에서 뒤에서 첫번째 요소, 그 안에서 첫번째 요소를 뜻하기 때문입니다. "
      ],
      "execution_count": 0,
      "outputs": []
    },
    {
      "cell_type": "markdown",
      "metadata": {
        "id": "_Y8Om2Suyac4",
        "colab_type": "text"
      },
      "source": [
        "### 문제4. 다음 tuple t1의 슬라이싱 결과는?\n",
        "           t1 = (0, 1,\"s\", \"t\", \"u\")\n",
        "           t1[2:-2]"
      ]
    },
    {
      "cell_type": "code",
      "metadata": {
        "id": "DtRyduy9zLCl",
        "colab_type": "code",
        "colab": {}
      },
      "source": [
        "답은 ('s')입니다. t1[2:-2]은 튜플 t1의 앞에서 세번째 요소부터 뒤에서 두번째 요소까지를 뜻하기 때문입니다."
      ],
      "execution_count": 0,
      "outputs": []
    },
    {
      "cell_type": "markdown",
      "metadata": {
        "id": "kdv93Ww6z6KG",
        "colab_type": "text"
      },
      "source": [
        "### 문제5. 다음 bool 값 출력 중 정확한 것은?\n",
        "    bool([0, 1, 2]), bool([0]), bool((0)), bool((0,))"
      ]
    },
    {
      "cell_type": "code",
      "metadata": {
        "id": "v1NxPRF30T98",
        "colab_type": "code",
        "colab": {}
      },
      "source": [
        "답은 (True, True, False, True)입니다. 첫 번째와 두 번째 bool에서는 리스트안에 요소들이 있으므로 출력값이 True이고, 세 번째 bool에서는 튜플의 값이 0이기 때문에 출력값이 False입니다. 마지막 bool에서는 0뒤에 ,가 있기 때문에 요소가 있는 것을 뜻하므로 True입니다."
      ],
      "execution_count": 0,
      "outputs": []
    },
    {
      "cell_type": "markdown",
      "metadata": {
        "id": "bA69x62X1k0e",
        "colab_type": "text"
      },
      "source": [
        "### 문제6. 다음 조건문을 1줄 코드로 변경하시오.\n",
        "           score = 80\n",
        "           if score >= 60:\n",
        "              message = \"success\"\n",
        "           else:\n",
        "              message = \"failure\""
      ]
    },
    {
      "cell_type": "code",
      "metadata": {
        "id": "pD2gROq31qjU",
        "colab_type": "code",
        "colab": {
          "base_uri": "https://localhost:8080/",
          "height": 34
        },
        "outputId": "3b8cf0b7-ec95-4427-ddbc-f8a4c72e6f3d"
      },
      "source": [
        "score = 80\n",
        "message = \"success\" if score >= 60 else \"failure\"\n",
        "print(message)"
      ],
      "execution_count": 25,
      "outputs": [
        {
          "output_type": "stream",
          "text": [
            "success\n"
          ],
          "name": "stdout"
        }
      ]
    },
    {
      "cell_type": "markdown",
      "metadata": {
        "id": "j-QOnqxH_iND",
        "colab_type": "text"
      },
      "source": [
        "### 문제7. 다음 코드의 실행결과는?\n",
        "    games = ['A', 'B', 'C']\n",
        "\n",
        "    for cnt in range(len(games)):\n",
        "        print(cnt, games[cnt], end='.')"
      ]
    },
    {
      "cell_type": "code",
      "metadata": {
        "id": "DcnHzIXC_BD1",
        "colab_type": "code",
        "colab": {
          "base_uri": "https://localhost:8080/",
          "height": 34
        },
        "outputId": "8425b9f5-1073-407c-a695-e80b87f42730"
      },
      "source": [
        "답은 0 A.1 B.2 C.입니다. 값을 출력하고 뒤에 ,를 붙이기 때문입니다."
      ],
      "execution_count": 26,
      "outputs": [
        {
          "output_type": "stream",
          "text": [
            "0 A.1 B.2 C."
          ],
          "name": "stdout"
        }
      ]
    },
    {
      "cell_type": "markdown",
      "metadata": {
        "id": "LZChhEThBNdF",
        "colab_type": "text"
      },
      "source": [
        "### 문제 8. 다음의 결과가 출력되지 않는 것은? 'I ate 10 apples, so I was sick for three days.'\n",
        "            \n",
        "            # code start\n",
        "            number = 10\n",
        "            day = \"three\"\n",
        "            _________________\n"
      ]
    },
    {
      "cell_type": "code",
      "metadata": {
        "id": "oeLiHkV4BucM",
        "colab_type": "code",
        "colab": {
          "base_uri": "https://localhost:8080/",
          "height": 134
        },
        "outputId": "16995d7b-009a-42ca-8136-6af8a6c6c911"
      },
      "source": [
        "number = 10\n",
        "day = \"three\"\n",
        "\"I ate (0) apples, so I was sick for (1) days.\" format(number=10, day) #인덱스 항목과 format함수의 입력값이 매칭이 되지 않습니다. "
      ],
      "execution_count": 27,
      "outputs": [
        {
          "output_type": "error",
          "ename": "SyntaxError",
          "evalue": "ignored",
          "traceback": [
            "\u001b[0;36m  File \u001b[0;32m\"<ipython-input-27-187d43d613e9>\"\u001b[0;36m, line \u001b[0;32m3\u001b[0m\n\u001b[0;31m    \"I ate (0) apples, so I was sick for (1) days.\" format(number=10, day)\u001b[0m\n\u001b[0m                                                         ^\u001b[0m\n\u001b[0;31mSyntaxError\u001b[0m\u001b[0;31m:\u001b[0m invalid syntax\n"
          ]
        }
      ]
    },
    {
      "cell_type": "markdown",
      "metadata": {
        "id": "GuDferibDDhi",
        "colab_type": "text"
      },
      "source": [
        "### 문제9. 리스트 내포를 사용해 1부터 1000이하의 자연수 중 5의 배수의 합을 구하는 한 줄 코드를 작성하시오\n",
        "          5 + 10 + 15 + 20 + 25 +...+ 955 + 960 + 965 + 970 +...+ 975 +...+ 995 + 1000 = ? "
      ]
    },
    {
      "cell_type": "code",
      "metadata": {
        "id": "FpapIHjYDm2z",
        "colab_type": "code",
        "colab": {
          "base_uri": "https://localhost:8080/",
          "height": 34
        },
        "outputId": "f713b521-c19f-4ac8-aafa-b902a32b0c66"
      },
      "source": [
        "sum([num for num in range(1,1001)if num %5==0])\n",
        "                    #1부터 1000까지   #5의 배수"
      ],
      "execution_count": 28,
      "outputs": [
        {
          "output_type": "execute_result",
          "data": {
            "text/plain": [
              "100500"
            ]
          },
          "metadata": {
            "tags": []
          },
          "execution_count": 28
        }
      ]
    },
    {
      "cell_type": "markdown",
      "metadata": {
        "id": "_2WwR9I3EQK5",
        "colab_type": "text"
      },
      "source": [
        "### 문제10. 4개 과목의 평균 성적을 구하시오. [a], [b]에 적합한 코드는?\n",
        "           subjects = ['python', 'english', 'math', 'science']\n",
        "           scores = [88, 77, 66, 95]\n",
        "           total = 0\n",
        "\n",
        "           for subject, score in [a]_____(subjects, scores):\n",
        "               total += score\n",
        "               print(subject, score)\n",
        "\n",
        "           print(\"평균점수 = (0)\", format([b]_____) "
      ]
    },
    {
      "cell_type": "code",
      "metadata": {
        "id": "D4ES4mVkFmQA",
        "colab_type": "code",
        "colab": {
          "base_uri": "https://localhost:8080/",
          "height": 105
        },
        "outputId": "c9081fac-59ac-4502-ab5f-2e9384e8677e"
      },
      "source": [
        "subjects = ['python', 'english', 'math', 'science']\n",
        "scores = [88, 77, 66, 95]\n",
        "total = 0\n",
        "\n",
        "for subject, score in zip(subjects, scores):\n",
        "  total += score\n",
        "  print(subject, score)\n",
        "\n",
        "print(\"평균점수 = (0)\", format(total/len(subjects)))"
      ],
      "execution_count": 30,
      "outputs": [
        {
          "output_type": "stream",
          "text": [
            "python 88\n",
            "english 77\n",
            "math 66\n",
            "science 95\n",
            "평균점수 = (0) 81.5\n"
          ],
          "name": "stdout"
        }
      ]
    }
  ]
}