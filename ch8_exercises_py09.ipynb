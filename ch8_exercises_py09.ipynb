{
  "nbformat": 4,
  "nbformat_minor": 0,
  "metadata": {
    "colab": {
      "name": "ch8_exercises_py09.ipynb",
      "provenance": [],
      "collapsed_sections": [],
      "include_colab_link": true
    },
    "kernelspec": {
      "name": "python3",
      "display_name": "Python 3"
    }
  },
  "cells": [
    {
      "cell_type": "markdown",
      "metadata": {
        "id": "view-in-github",
        "colab_type": "text"
      },
      "source": [
        "<a href=\"https://colab.research.google.com/github/hojoooon/py09/blob/master/ch8_exercises_py09.ipynb\" target=\"_parent\"><img src=\"https://colab.research.google.com/assets/colab-badge.svg\" alt=\"Open In Colab\"/></a>"
      ]
    },
    {
      "cell_type": "markdown",
      "metadata": {
        "id": "ovY5jkD5dpxE",
        "colab_type": "text"
      },
      "source": [
        "# ch8_exercises.ipynb"
      ]
    },
    {
      "cell_type": "markdown",
      "metadata": {
        "id": "SZw6UnxQWYBe",
        "colab_type": "text"
      },
      "source": [
        "Q1. 문자열 바꾸기\n",
        "> 다음과 같은 문자열이 있다.\n",
        "\n",
        "```\n",
        "a:b:c:d\n",
        "```\n",
        "\n",
        "> 문자열의 split와 join 함수를 사용하여 위 문자열을 다음과 같이 고치시오.\n",
        "\n",
        "```\n",
        "a#b#c#d\n",
        "```\n"
      ]
    },
    {
      "cell_type": "code",
      "metadata": {
        "id": "rUNNaqJPdg7B",
        "colab_type": "code",
        "colab": {
          "base_uri": "https://localhost:8080/",
          "height": 34
        },
        "outputId": "753d9b3b-c46a-4767-eb74-c38220aae00a"
      },
      "source": [
        "# [Q1] Code-1 \n",
        "a = \"a:b:c:d\"\n",
        "\"#\".join(a.split(':')) # :기호를 기준으로 나눈 문자열에 #기호 삽입"
      ],
      "execution_count": null,
      "outputs": [
        {
          "output_type": "execute_result",
          "data": {
            "text/plain": [
              "'a#b#c#d'"
            ]
          },
          "metadata": {
            "tags": []
          },
          "execution_count": 6
        }
      ]
    },
    {
      "cell_type": "code",
      "metadata": {
        "colab_type": "code",
        "id": "x0OIIHRmDwtd",
        "colab": {
          "base_uri": "https://localhost:8080/",
          "height": 34
        },
        "outputId": "1c0b2958-bc73-4708-e771-06ee7250b39d"
      },
      "source": [
        "# [Q1] Code-2\n",
        "a = \"a:b:c:d\"\n",
        "a.replace(\":\",\"#\") # :기호를 #기호로 치환"
      ],
      "execution_count": null,
      "outputs": [
        {
          "output_type": "execute_result",
          "data": {
            "text/plain": [
              "'a#b#c#d'"
            ]
          },
          "metadata": {
            "tags": []
          },
          "execution_count": 7
        }
      ]
    },
    {
      "cell_type": "markdown",
      "metadata": {
        "colab_type": "text",
        "id": "re2-XrUYXF1m"
      },
      "source": [
        "## Q2. 딕셔너리 값 추출하기\n",
        "> 다음은 딕셔너리의 a에서 'C'라는 key에 해당하는 value를 출력하는 프로그램이다.\n",
        "```\n",
        ">>> a = {'A':90, 'B':80}\n",
        ">>> a['C']\n",
        "Traceback (most recent call last):\n",
        "  File \"<stdin>\", line 1, in <module>\n",
        "KeyError: 'C'\n",
        "```\n",
        ">> a 딕셔너리에는 'C'라는 key가 없으므로 위와 같은 오류가 발생한다.  \n",
        ">>'C'에 해당하는 key 값이 없을 경우 오류 대신 70을 얻을 수 있도록 수정하시오."
      ]
    },
    {
      "cell_type": "code",
      "metadata": {
        "colab_type": "code",
        "id": "5MBLUZ5WXF1q",
        "colab": {
          "base_uri": "https://localhost:8080/",
          "height": 34
        },
        "outputId": "8bdb3f8b-d80c-4210-a848-49fce55be37d"
      },
      "source": [
        "# [Q2] Code-1\n",
        ">>> a = {'A':90, 'B':80}\n",
        ">>> a.get('C', '70') # 디폴트 값을 70으로 지정"
      ],
      "execution_count": null,
      "outputs": [
        {
          "output_type": "execute_result",
          "data": {
            "text/plain": [
              "'70'"
            ]
          },
          "metadata": {
            "tags": []
          },
          "execution_count": 11
        }
      ]
    },
    {
      "cell_type": "code",
      "metadata": {
        "colab_type": "code",
        "id": "viVk7IDSEQZX",
        "colab": {
          "base_uri": "https://localhost:8080/",
          "height": 34
        },
        "outputId": "10bdb76a-9276-4940-c55a-fe9651fee264"
      },
      "source": [
        "# [Q2] Code-2\n",
        "a = {'A':90, 'B':80}\n",
        "'C' in a\n",
        "if {}:\n",
        "  print(\"1\")\n",
        "else: # false 일때\n",
        "  print(\"70\") # 70출력"
      ],
      "execution_count": null,
      "outputs": [
        {
          "output_type": "stream",
          "text": [
            "70\n"
          ],
          "name": "stdout"
        }
      ]
    },
    {
      "cell_type": "markdown",
      "metadata": {
        "colab_type": "text",
        "id": "UZy8lu_BXGnT"
      },
      "source": [
        "## Q3. 리스트의 더하기와 extend 함수\n",
        "> 다음과 같은 리스트 a가 있다.\n",
        "```\n",
        "a = [1, 2, 3]\n",
        "```\n",
        "> 리스트 a에 [4, 5]를 + 기호를 사용하여 더한 결과는 다음과 같다.\n",
        "```\n",
        ">>> a = [1, 2, 3]\n",
        ">>> a = a + [4,5]\n",
        ">>> a\n",
        "[1, 2, 3, 4, 5]\n",
        "```\n",
        "> 리스트 a에 [4,5]를 extend를 사용하여 더한 결과는 다음과 같다.\n",
        "```\n",
        ">>> a = [1, 2, 3]\n",
        ">>> a.extend([4, 5])\n",
        ">>> a\n",
        "[1, 2, 3, 4, 5]\n",
        "```\n",
        "\n",
        "> ### + 기호를 사용하여 더한 것과 extend한 것의 차이점이 있을까? 있다면 그 차이점을 설명하시오."
      ]
    },
    {
      "cell_type": "code",
      "metadata": {
        "colab_type": "code",
        "id": "H9T_sXHzXGnW",
        "colab": {
          "base_uri": "https://localhost:8080/",
          "height": 34
        },
        "outputId": "b441fba1-dfdf-48ab-9713-c3396682236e"
      },
      "source": [
        "# [Q3] Explain (코드와 주석으로 설명하시오)\n",
        "a = [1,2,3]\n",
        "id(a)"
      ],
      "execution_count": 77,
      "outputs": [
        {
          "output_type": "execute_result",
          "data": {
            "text/plain": [
              "140065535420744"
            ]
          },
          "metadata": {
            "tags": []
          },
          "execution_count": 77
        }
      ]
    },
    {
      "cell_type": "code",
      "metadata": {
        "id": "-ylW6UydzJ9u",
        "colab_type": "code",
        "colab": {
          "base_uri": "https://localhost:8080/",
          "height": 34
        },
        "outputId": "517a5c28-42d8-4431-f2d3-c7b16ed80b30"
      },
      "source": [
        "a+[4,5]\n",
        "a, id(a) # 주소 값이 변함(140065535420744->140065535399176)"
      ],
      "execution_count": 81,
      "outputs": [
        {
          "output_type": "execute_result",
          "data": {
            "text/plain": [
              "([1, 2, 3, 4, 5], 140065535399176)"
            ]
          },
          "metadata": {
            "tags": []
          },
          "execution_count": 81
        }
      ]
    },
    {
      "cell_type": "code",
      "metadata": {
        "id": "G0Mcz9SSfFr0",
        "colab_type": "code",
        "colab": {
          "base_uri": "https://localhost:8080/",
          "height": 34
        },
        "outputId": "add7fecf-5b18-44bc-c42e-3d5d80d73ed3"
      },
      "source": [
        "a = [1,2,3]\n",
        "id(a)"
      ],
      "execution_count": 85,
      "outputs": [
        {
          "output_type": "execute_result",
          "data": {
            "text/plain": [
              "140065535421896"
            ]
          },
          "metadata": {
            "tags": []
          },
          "execution_count": 85
        }
      ]
    },
    {
      "cell_type": "code",
      "metadata": {
        "id": "3XEU_kth0afU",
        "colab_type": "code",
        "colab": {
          "base_uri": "https://localhost:8080/",
          "height": 34
        },
        "outputId": "41d1e460-f982-40f6-af64-88fd637c67df"
      },
      "source": [
        "a.extend([4,5])\n",
        "a , id(a) # 주소 값이 변하지 않음"
      ],
      "execution_count": 86,
      "outputs": [
        {
          "output_type": "execute_result",
          "data": {
            "text/plain": [
              "([1, 2, 3, 4, 5], 140065535421896)"
            ]
          },
          "metadata": {
            "tags": []
          },
          "execution_count": 86
        }
      ]
    },
    {
      "cell_type": "markdown",
      "metadata": {
        "colab_type": "text",
        "id": "fqypxxqTXHY7"
      },
      "source": [
        "## Q4. 리스트 총합 구하기\n",
        "> 다음은 A학급 학생의 점수를 나타내는 리스트이다. 다음 리스트에서 50점 이상 점수의 총합을 구하시오.\n",
        "```\n",
        "A = [20, 55, 67, 82, 45, 33, 90, 87, 100, 25]\n",
        "```"
      ]
    },
    {
      "cell_type": "code",
      "metadata": {
        "colab_type": "code",
        "id": "oQ5UnmayXHY-",
        "colab": {
          "base_uri": "https://localhost:8080/",
          "height": 34
        },
        "outputId": "19416fd8-6a39-48f3-b506-68a9118999b2"
      },
      "source": [
        "# [Q4] Code-1\n",
        "A = [20, 55, 67, 82, 45, 33, 90, 87, 100, 25]\n",
        "result = [num for num in A if num >= 50] # 50이상인 수 분류\n",
        "total = 0\n",
        "for num in result:\n",
        "  total += num # 분류한 수들의 총합\n",
        "print(total)"
      ],
      "execution_count": null,
      "outputs": [
        {
          "output_type": "stream",
          "text": [
            "481\n"
          ],
          "name": "stdout"
        }
      ]
    },
    {
      "cell_type": "code",
      "metadata": {
        "colab_type": "code",
        "id": "pMQ1e6jpFomt",
        "colab": {
          "base_uri": "https://localhost:8080/",
          "height": 34
        },
        "outputId": "1076aa83-f8f5-47a6-b568-dff09ef75663"
      },
      "source": [
        "# [Q4] Code-2\n",
        "A = [20, 55, 67, 82, 45, 33, 90, 87, 100, 25]\n",
        "result = 0\n",
        "while A:\n",
        "  num = A.pop() # A리스트에서 숫자하나씩 빼오기\n",
        "  if num >= 50: # 빼온 수가 50이 넘는지 검사\n",
        "    result += num # 통과된 수만 더하기\n",
        "print(result)"
      ],
      "execution_count": null,
      "outputs": [
        {
          "output_type": "stream",
          "text": [
            "481\n"
          ],
          "name": "stdout"
        }
      ]
    },
    {
      "cell_type": "markdown",
      "metadata": {
        "colab_type": "text",
        "id": "NKsvciXZXIL-"
      },
      "source": [
        "## Q5. 피보나치 함수\n",
        "> 첫 번째 항의 값이 0이고 두 번째 항의 값이 1일 때, 이후에 이어지는 항은 이전의 두 항을 더한 값으로 이루어지는 수열을 피보나치 수열이라고 한다.\n",
        "```\n",
        "0, 1, 1, 2, 3, 5, 8, 13, 21, ...\n",
        "```\n",
        "> 입력을 정수 n으로 받았을 때, n 이하까지의 피보나치 수열을 출력하는 함수를 작성해 보자.\n"
      ]
    },
    {
      "cell_type": "code",
      "metadata": {
        "colab_type": "code",
        "id": "5MZQYOVjXIL_",
        "colab": {
          "base_uri": "https://localhost:8080/",
          "height": 122
        },
        "outputId": "e6f7ffae-fd8b-430e-dba7-0f825f9985d2"
      },
      "source": [
        "# [Q5] Code-1\n",
        "def num(n):\n",
        "  if n == 0 : return 0 # n이 0일땐 0반환\n",
        "  if n == 1 : return 1 # n이 1일땐 1반환\n",
        "  return num(n-2) + num(n-1) #피보나치 함수\n",
        "\n",
        "a = int(input('숫자를 입력하세요: ')) #입력 받기:문자열을 숫자로 변환\n",
        "\n",
        "for i in range(a):\n",
        "  print(num(i)) #결과 출력"
      ],
      "execution_count": null,
      "outputs": [
        {
          "output_type": "stream",
          "text": [
            "숫자를 입력하세요: 5\n",
            "0\n",
            "1\n",
            "1\n",
            "2\n",
            "3\n"
          ],
          "name": "stdout"
        }
      ]
    },
    {
      "cell_type": "code",
      "metadata": {
        "colab_type": "code",
        "id": "JH2Rm_TkF_eu",
        "colab": {
          "base_uri": "https://localhost:8080/",
          "height": 105
        },
        "outputId": "c71a090e-07ec-44ba-a9eb-6c6b33cd2457"
      },
      "source": [
        "# [Q5] Code-2\n",
        "def num(n):\n",
        "  if n == 0 : return 0\n",
        "  if n == 1 : return 1\n",
        "  return num(n-2) + num(n-1) #피보나치 함수\n",
        "\n",
        "for i in range(5): # 5번째 까지의 피보나치 수열 출력\n",
        "  print(num(i))"
      ],
      "execution_count": null,
      "outputs": [
        {
          "output_type": "stream",
          "text": [
            "0\n",
            "1\n",
            "1\n",
            "2\n",
            "3\n"
          ],
          "name": "stdout"
        }
      ]
    },
    {
      "cell_type": "markdown",
      "metadata": {
        "colab_type": "text",
        "id": "-3KHtOOoXJBV"
      },
      "source": [
        "## Q6. 숫자의 총합 구하기\n",
        "> 사용자로부터 다음과 같은 숫자를 입력받아 입력받은 숫자의 총합을 구하는 프로그램을 작성하시오. (단 숫자는 콤마로 구분하여 입력한다.)\n",
        "\n",
        "```\n",
        "65,45,2,3,45,8\n",
        "```\n"
      ]
    },
    {
      "cell_type": "code",
      "metadata": {
        "colab_type": "code",
        "id": "AjYR0lUaXJBa",
        "colab": {
          "base_uri": "https://localhost:8080/",
          "height": 52
        },
        "outputId": "1cd4bd28-f947-44d8-ea0a-602fb0b31e2c"
      },
      "source": [
        "# [Q6] Code-1\n",
        "user_input = input(\"숫자를 입력하세요:\") # 입력값 받기\n",
        "num = user_input.split(\",\") # 받은 입력값을 ,로 구분\n",
        "total = 0\n",
        "for n in num:\n",
        "  total += int(n) # 문자열인 받은 입력값을 숫자로 변환\n",
        "print(total)\n"
      ],
      "execution_count": null,
      "outputs": [
        {
          "output_type": "stream",
          "text": [
            "숫자를 입력하세요:65,45,2,3,45,8\n",
            "168\n"
          ],
          "name": "stdout"
        }
      ]
    },
    {
      "cell_type": "code",
      "metadata": {
        "colab_type": "code",
        "id": "JpkVe0zxGTK1",
        "colab": {
          "base_uri": "https://localhost:8080/",
          "height": 52
        },
        "outputId": "2b4d3d8f-cb7f-47b4-db57-e1646e3d49c4"
      },
      "source": [
        "# [Q6] Code-2\n",
        "user_input = input(\"숫자를 입력하세요: \")\n",
        "num = user_input.split(\",\")\n",
        "\n",
        "def result(num,total=0):\n",
        "  for a in num:\n",
        "    total += int(a)\n",
        "  return total\n",
        "\n",
        "print(result(num))"
      ],
      "execution_count": null,
      "outputs": [
        {
          "output_type": "stream",
          "text": [
            "숫자를 입력하세요: 65,45,2,3,45,8\n",
            "168\n"
          ],
          "name": "stdout"
        }
      ]
    },
    {
      "cell_type": "markdown",
      "metadata": {
        "colab_type": "text",
        "id": "CiMJjZQ_GdyV"
      },
      "source": [
        "## Q7. 한 줄 구구단\n",
        "> 사용자로부터 2~9의 숫자 중 하나를 입력받아 해당 숫자의 구구단을 한 줄로 출력하는 프로그램을 작성하시오.\n",
        "\n",
        "> 실행 예)\n",
        "```\n",
        "구구단을 출력할 숫자를 입력하세요(2~9): 2\n",
        "2 4 6 8 10 12 14 16 18\n",
        "```\n"
      ]
    },
    {
      "cell_type": "code",
      "metadata": {
        "colab_type": "code",
        "id": "_8TQZNIwGdyo",
        "colab": {
          "base_uri": "https://localhost:8080/",
          "height": 52
        },
        "outputId": "54be42f9-5c55-4d7f-c136-b2776f0fb8fe"
      },
      "source": [
        "# [Q7] Code-1\n",
        "user_input = input(\"구구단을 출려갈 숫자를 입력하세요(2~9): \") # 입력 받기\n",
        "num = int(user_input) # 문자열을 숫자로 변환\n",
        "for i in range(1,10): # 1~9\n",
        "  print(i*num, end=' ') # 한 줄로 출력하기 위해 마지막에 공백 문자 출력 "
      ],
      "execution_count": null,
      "outputs": [
        {
          "output_type": "stream",
          "text": [
            "구구단을 출려갈 숫자를 입력하세요(2~9): 9\n",
            "9 18 27 36 45 54 63 72 81 "
          ],
          "name": "stdout"
        }
      ]
    },
    {
      "cell_type": "code",
      "metadata": {
        "colab_type": "code",
        "id": "HRX-wvenGdyx",
        "colab": {
          "base_uri": "https://localhost:8080/",
          "height": 52
        },
        "outputId": "9f8c576b-5cf7-4d1b-e23c-7cbde14261dd"
      },
      "source": [
        "# [Q7] Code-2\n",
        "user_input = input(\"구구단을 출력할 숫자를 입력하세요(2~9):\")\n",
        "num = int(user_input) \n",
        "\n",
        "def result(num):\n",
        "    for n in range(1,10):\n",
        "        print(f'{num * n}',end=' ')\n",
        "\n",
        "result(num)"
      ],
      "execution_count": null,
      "outputs": [
        {
          "output_type": "stream",
          "text": [
            "구구단을 출력할 숫자를 입력하세요(2~9):9\n",
            "9 18 27 36 45 54 63 72 81 "
          ],
          "name": "stdout"
        }
      ]
    },
    {
      "cell_type": "markdown",
      "metadata": {
        "colab_type": "text",
        "id": "YrS3b88QbmKo"
      },
      "source": [
        "## Q8. 역순 저장\n",
        "> 다음과 같은 내용의 파일 abc.txt가 있다.\n",
        "```\n",
        "AAA\n",
        "BBB\n",
        "CCC\n",
        "DDD\n",
        "EEE\n",
        "```\n",
        "> 이 파일의 내용을 다음과 같이 역순으로 바꾸어 저장하시오.\n",
        "```\n",
        "EEE\n",
        "DDD\n",
        "CCC\n",
        "BBB\n",
        "AAA\n",
        "```"
      ]
    },
    {
      "cell_type": "code",
      "metadata": {
        "colab_type": "code",
        "id": "Ll_2InMWbmKq",
        "colab": {}
      },
      "source": [
        "# [Q8] Code-1\n",
        "f = open('abc.txt', 'r')\n",
        "lines = f.readlines()      # 모든 라인 읽기\n",
        "f.close()                 \n",
        "\n",
        "lines.reverse()            # 읽은 라인 역순정렬\n",
        "\n",
        "f = open('abc.txt', 'w')   # abc.txt파일 열기\n",
        "for line in lines:\n",
        "    line = line.strip()    #줄 바꿈 문자 제거\n",
        "    f.write(line)\n",
        "    f.write('\\n')          \n",
        "f.close() "
      ],
      "execution_count": null,
      "outputs": []
    },
    {
      "cell_type": "markdown",
      "metadata": {
        "id": "GJauBMrB2jDG",
        "colab_type": "text"
      },
      "source": [
        "결과 : \n",
        "\n",
        "EEE\\\n",
        "DDD\\\n",
        "CCC\\\n",
        "BBB\\\n",
        "AAA"
      ]
    },
    {
      "cell_type": "code",
      "metadata": {
        "colab_type": "code",
        "id": "N3uG53JsHIYX",
        "colab": {
          "base_uri": "https://localhost:8080/",
          "height": 105
        },
        "outputId": "edb85bfb-08f5-4ee3-88b8-762bda3f13a3"
      },
      "source": [
        "# [Q8] Code-2\n",
        "f = open('abc.txt', 'r')\n",
        "lines = f.readlines()     # 모든 라인 읽기\n",
        "f.close()\n",
        "\n",
        "for lines in reversed(open(\"abc.txt\").readlines()): #읽은 라인 뒤집기\n",
        "  print(lines.rstrip())   # 출력하기"
      ],
      "execution_count": 3,
      "outputs": [
        {
          "output_type": "stream",
          "text": [
            "EEE\n",
            "DDD\n",
            "CCC\n",
            "BBB\n",
            "AAA\n"
          ],
          "name": "stdout"
        }
      ]
    },
    {
      "cell_type": "markdown",
      "metadata": {
        "colab_type": "text",
        "id": "OcSDHHYkK6lZ"
      },
      "source": [
        "## Q9. 평균값 구하기\n",
        "> 다음과 같이 총 10줄로 이루어진 sample.txt 파일이 있다. sample.txt 파일의 숫자 값을 모두 읽어 총합과 평균 값을 구한 후 평균 값을 result.txt 파일에 쓰는 프로그램을 작성하시오.\n",
        "```\n",
        "70\n",
        "60\n",
        "55\n",
        "75\n",
        "95\n",
        "90\n",
        "80\n",
        "80\n",
        "85\n",
        "100\n",
        "```\n"
      ]
    },
    {
      "cell_type": "code",
      "metadata": {
        "colab_type": "code",
        "id": "GmaaVGqrK6le",
        "colab": {
          "base_uri": "https://localhost:8080/",
          "height": 34
        },
        "outputId": "4bd02e94-7dba-483e-9d74-dc00437bd4b2"
      },
      "source": [
        "# [Q9] Code-1\n",
        "f = open(\"sample.txt\")\n",
        "lines = f.readlines()\n",
        "f.close()\n",
        "\n",
        "total = 0\n",
        "for line in lines:\n",
        "  score = int(line)\n",
        "  total += score\n",
        "average = total / len(lines)\n",
        "\n",
        "f = open(\"result.txt\", \"w\")\n",
        "f.write(str(average))\n",
        "f.close()\n",
        "\n",
        "for lines in (open(\"result.txt\").readlines()):\n",
        "  print(lines)"
      ],
      "execution_count": 12,
      "outputs": [
        {
          "output_type": "stream",
          "text": [
            "79.0\n"
          ],
          "name": "stdout"
        }
      ]
    },
    {
      "cell_type": "code",
      "metadata": {
        "colab_type": "code",
        "id": "kgMy9LVYHfRF",
        "colab": {
          "base_uri": "https://localhost:8080/",
          "height": 34
        },
        "outputId": "12ee451e-ce2c-470b-d69c-4a82ba1a0d9c"
      },
      "source": [
        "# [Q9] Code-2\n",
        "f= open(\"sample.txt\")\n",
        "lines = f.readlines()\n",
        "f.close()\n",
        "\n",
        "total = 0\n",
        "for i in lines:\n",
        "  total = total + float(i)\n",
        "average = total/len(lines)\n",
        "\n",
        "f = open('result2.txt', 'w')\n",
        "f.write(str(average))\n",
        "f.close()\n",
        "\n",
        "for lines in (open(\"result2.txt\").readlines()):\n",
        "  print(lines)"
      ],
      "execution_count": 13,
      "outputs": [
        {
          "output_type": "stream",
          "text": [
            "79.0\n"
          ],
          "name": "stdout"
        }
      ]
    },
    {
      "cell_type": "markdown",
      "metadata": {
        "colab_type": "text",
        "id": "anwB_DjuK60j"
      },
      "source": [
        "## Q10. 사칙연산 계산기\n",
        "> 다음과 같이 동작하는 클래스 Calculator를 작성하시오.\n",
        "```\n",
        ">>> cal1 = Calculator([1,2,3,4,5])\n",
        ">>> cal1.sum() # 합계\n",
        "15\n",
        ">>> cal1.avg() # 평균\n",
        "3.0\n",
        ">>> cal2 = Calculator([6,7,8,9,10])\n",
        ">>> cal2.sum() # 합계\n",
        "40\n",
        ">>> cal2.avg() # 평균\n",
        "8.0\n",
        "```\n"
      ]
    },
    {
      "cell_type": "code",
      "metadata": {
        "colab_type": "code",
        "id": "QJTNoSqtMrIM",
        "colab": {
          "base_uri": "https://localhost:8080/",
          "height": 87
        },
        "outputId": "0f2cc20b-6649-4216-eb9f-b0c4ff4167e7"
      },
      "source": [
        "# [Q10] Code-1\n",
        "class Calculator:  # 클래스 지정\n",
        "  def __init__(self, numberList):\n",
        "    self.numberList = numberList\n",
        "\n",
        "  def add(self):  # 합계 계산식\n",
        "    result = 0\n",
        "    for num in self.numberList:\n",
        "      result += num\n",
        "    return result\n",
        "\n",
        "  def avg(self):   # 평균 계산식\n",
        "    total = self.add() \n",
        "    return total / len(self.numberList)  # 리스트의 합계/ 리스트의 길이\n",
        "\n",
        "cal1 = Calculator([1,2,3,4,5])\n",
        "print (cal1.add())  # cal1 합계\n",
        "print (cal1.avg())  # cal1 평균\n",
        "\n",
        "cal2 = Calculator([6,7,8,9,10])\n",
        "print (cal2.add())  # cal2 합계\n",
        "print (cal2.avg())  # cal2 평균"
      ],
      "execution_count": 15,
      "outputs": [
        {
          "output_type": "stream",
          "text": [
            "15\n",
            "3.0\n",
            "40\n",
            "8.0\n"
          ],
          "name": "stdout"
        }
      ]
    },
    {
      "cell_type": "code",
      "metadata": {
        "colab_type": "code",
        "id": "91hia3WgH2gW",
        "colab": {
          "base_uri": "https://localhost:8080/",
          "height": 87
        },
        "outputId": "f285314b-1713-4ca9-a1b1-dc8ed2b79126"
      },
      "source": [
        "# [Q10] Code-2\n",
        "class Calculator:\n",
        "    def __init__ (self, number): \n",
        "        self.number = number\n",
        "        \n",
        "    def add(self):  # 합계\n",
        "        result = 0\n",
        "        for num in self.number: \n",
        "            result += num\n",
        "        return result\n",
        "\n",
        "class Average(Calculator):\n",
        "    def avg(self):   # 평균\n",
        "        total = self.add()\n",
        "        return total / len(self.number)\n",
        "\n",
        "\n",
        "\n",
        "cal1 = Average([1,2,3,4,5]) \n",
        "print (cal1.add())\n",
        "print (cal1.avg())\n",
        "\n",
        "cal2 = Average([6,7,8,9,10]) \n",
        "print (cal2.add())\n",
        "print (cal2.avg())"
      ],
      "execution_count": 88,
      "outputs": [
        {
          "output_type": "stream",
          "text": [
            "15\n",
            "3.0\n",
            "40\n",
            "8.0\n"
          ],
          "name": "stdout"
        }
      ]
    },
    {
      "cell_type": "markdown",
      "metadata": {
        "id": "gNnjBaJvH_51",
        "colab_type": "text"
      },
      "source": [
        "\n",
        "\n",
        "---\n",
        "\n",
        "\n"
      ]
    },
    {
      "cell_type": "markdown",
      "metadata": {
        "colab_type": "text",
        "id": "8xQf6xJ4K7M_"
      },
      "source": [
        "## Q11. 모듈 사용 방법\n",
        "> ./doit 디렉터리에 mymod.py 파이썬 모듈이 있다고 가정해 보자. 명령 프롬프트 창에서 파이썬 셸을 열어 이 모듈을 import해서 사용할 수 있는 방법을 모두 기술하시오. (즉 다음과 같이 import mymod를 수행할 때 오류가 없어야 한다.)\n",
        "```\n",
        ">>> import mymod\n",
        ">>>\n",
        "```"
      ]
    },
    {
      "cell_type": "code",
      "metadata": {
        "colab_type": "code",
        "id": "4zv7LXPjJiCH",
        "colab": {}
      },
      "source": [
        "!mkdir doit\n",
        "# 실행 후 새로 고침!\n",
        "# mymod.py 를 업로드한다."
      ],
      "execution_count": 16,
      "outputs": []
    },
    {
      "cell_type": "code",
      "metadata": {
        "colab_type": "code",
        "id": "JA_3n4g8JiB7",
        "colab": {}
      },
      "source": [
        "!mv mymod.py ./doit\n",
        "# 실행 후 새로 고침!"
      ],
      "execution_count": 17,
      "outputs": []
    },
    {
      "cell_type": "code",
      "metadata": {
        "colab_type": "code",
        "id": "UCO7aRh5Msx6",
        "colab": {}
      },
      "source": [
        "# [Q11] Code-1\n",
        "import sys #sys모듈 이용\n",
        "sys.path.append(\"c:/doit\")\n",
        "import mymod"
      ],
      "execution_count": 29,
      "outputs": []
    },
    {
      "cell_type": "code",
      "metadata": {
        "colab_type": "code",
        "id": "aX_wLb53IgUl",
        "colab": {
          "base_uri": "https://localhost:8080/",
          "height": 134
        },
        "outputId": "f0accd3a-e9eb-491f-9c99-3c59179dca0a"
      },
      "source": [
        "# [Q11] Code-2\n",
        "C:\\Users\\home>cd c:\\doit\n",
        "C:\\doit>python\n",
        "import mymod2"
      ],
      "execution_count": 34,
      "outputs": [
        {
          "output_type": "error",
          "ename": "SyntaxError",
          "evalue": "ignored",
          "traceback": [
            "\u001b[0;36m  File \u001b[0;32m\"<ipython-input-34-56412baeb9bd>\"\u001b[0;36m, line \u001b[0;32m2\u001b[0m\n\u001b[0;31m    C:\\Users\\home>cd c:\\doit\u001b[0m\n\u001b[0m                            ^\u001b[0m\n\u001b[0;31mSyntaxError\u001b[0m\u001b[0;31m:\u001b[0m unexpected character after line continuation character\n"
          ]
        }
      ]
    },
    {
      "cell_type": "markdown",
      "metadata": {
        "colab_type": "text",
        "id": "Q6QYCZ9HM3DW"
      },
      "source": [
        "## Q12. 오류와 예외 처리\n",
        "> 다음 코드의 실행 결과를 예측하고 그 이유에 대해 설명하시오.\n",
        "\n",
        "```\n",
        "result = 0\n",
        "\n",
        "try:\n",
        "    [1, 2, 3][3]\n",
        "    \"a\"+1\n",
        "    4 / 0\n",
        "except TypeError:\n",
        "    result += 1\n",
        "except ZeroDivisionError:\n",
        "    result += 2\n",
        "except IndexError:\n",
        "    result += 3\n",
        "finally:\n",
        "    result += 4\n",
        "\n",
        "print(result)\n",
        "```\n"
      ]
    },
    {
      "cell_type": "code",
      "metadata": {
        "id": "hDf0Js4KLOrl",
        "colab_type": "code",
        "colab": {
          "base_uri": "https://localhost:8080/",
          "height": 34
        },
        "outputId": "3222069e-f5a4-49ad-d61f-476f3c948c4b"
      },
      "source": [
        "# [Q12] Explain (코드와 주석으로 설명하시오)\n",
        "result = 0\n",
        " \n",
        "try:\n",
        "    [1, 2, 3][3] # IndexError발생 -> result에 3이 더해짐. 여기까지의 결과:3 \n",
        "    \"a\"+1\n",
        "    4 / 0\n",
        "except TypeError:\n",
        "    result += 1\n",
        "except ZeroDivisionError:\n",
        "    result += 2\n",
        "except IndexError:\n",
        "    result += 3\n",
        "finally:        # finally실행 -> 4가 더해짐.\n",
        "    result += 4\n",
        " \n",
        "print(result)  # 3 + 4 = 7이므로 출력되는 결과는 7이다."
      ],
      "execution_count": 35,
      "outputs": [
        {
          "output_type": "stream",
          "text": [
            "7\n"
          ],
          "name": "stdout"
        }
      ]
    },
    {
      "cell_type": "markdown",
      "metadata": {
        "colab_type": "text",
        "id": "x2IYgozSM3gd"
      },
      "source": [
        "## Q13. DashInsert 함수\n",
        "> DashInsert 함수는 숫자로 구성된 문자열을 입력받은 뒤 문자열 안에서 홀수가 연속되면 두 수 사이에 - 를 추가하고, 짝수가 연속되면 * 를 추가하는 기능을 갖고 있다. DashInsert 함수를 완성하시오.\n",
        "```\n",
        "입력 예시: 4546793\n",
        "출력 예시: 454*67-9-3\n",
        "```\n"
      ]
    },
    {
      "cell_type": "code",
      "metadata": {
        "colab_type": "code",
        "id": "FiKNOu9HM3DX",
        "colab": {
          "base_uri": "https://localhost:8080/",
          "height": 34
        },
        "outputId": "0fbc4f5b-992c-40b6-9d63-d28ba6bef598"
      },
      "source": [
        "# [Q13] Code-1\n",
        "data = \"4546793\"\n",
        "numbers = list(map(int, data)) # 문자열을 리스트로 변경\n",
        "result = []\n",
        "\n",
        "for i, num in enumerate(numbers):\n",
        "  result.append(str(num))\n",
        "  if i < len(numbers)-1:                # 다음 수가 있음\n",
        "    is_odd = num% 2 == 1                # 현재 수는 홀수\n",
        "    is_next_odd = numbers[i+1] % 2 == 1 # 다음 수가 홀수\n",
        "    if is_odd and is_next_odd:          # 연속 홀수\n",
        "      result.append(\"-\")\n",
        "    elif not is_odd and not is_next_odd:# 연속 짝수\n",
        "      result.append(\"*\")\n",
        "\n",
        "print(\"\".join(result))"
      ],
      "execution_count": 74,
      "outputs": [
        {
          "output_type": "stream",
          "text": [
            "454*67-9-3\n"
          ],
          "name": "stdout"
        }
      ]
    },
    {
      "cell_type": "code",
      "metadata": {
        "colab_type": "code",
        "id": "d_hmy1RZLqBg",
        "colab": {
          "base_uri": "https://localhost:8080/",
          "height": 52
        },
        "outputId": "ea03192d-073f-41f8-a3f2-0ee3d0460f76"
      },
      "source": [
        "# [Q13] Code-2\n",
        "number = input(\"숫자를 입력해주세요: \")\n",
        "\n",
        "result = number[0]\n",
        "for a,b in zip(number[0:], number[1:]): \n",
        "    if int(a)%2 == 0 and int(b)%2 == 0:    # 연속 짝수\n",
        "        result += '*' + b\n",
        "    elif int(a)%2 == 1 and int(b)%2 == 1:  # 연속 홀수\n",
        "        result += '-' + b\n",
        "    else:\n",
        "        result += b                        #홀수짝수, 짝수홀수\n",
        "\n",
        "print(result)"
      ],
      "execution_count": 76,
      "outputs": [
        {
          "output_type": "stream",
          "text": [
            "숫자를 입력해주세요: 4546793\n",
            "454*67-9-3\n"
          ],
          "name": "stdout"
        }
      ]
    },
    {
      "cell_type": "markdown",
      "metadata": {
        "colab_type": "text",
        "id": "HDbz71sNL2Qt"
      },
      "source": [
        "## Q14. 문자열 압축하기\n",
        "> 문자열을 입력받아 같은 문자가 연속적으로 반복되는 경우에 그 반복 횟수를 표시해 문자열을 압축하여 표시하시오.\n",
        "```\n",
        "입력 예시: aaabbcccccca\n",
        "출력 예시: a3b2c6a1\n",
        "```\n",
        "\n"
      ]
    },
    {
      "cell_type": "code",
      "metadata": {
        "colab_type": "code",
        "id": "Hs88sVjjL2Qw",
        "colab": {
          "base_uri": "https://localhost:8080/",
          "height": 34
        },
        "outputId": "7f75afc0-b5db-448f-f198-72ef9c660d61"
      },
      "source": [
        "# [Q14] Code-1\n",
        "def compress_string(s):\n",
        "  _c = \"\"\n",
        "  cnt = 0\n",
        "  result = \"\"\n",
        "  for c in s:\n",
        "    if c!=_c:\n",
        "      _c = c\n",
        "      if cnt: result += str(cnt)\n",
        "      result += c\n",
        "      cnt = 1\n",
        "    else:\n",
        "      cnt +=1\n",
        "  if cnt: result += str(cnt)\n",
        "  return result\n",
        "\n",
        "print(compress_string(\"aaabbcccccca\"))"
      ],
      "execution_count": 47,
      "outputs": [
        {
          "output_type": "stream",
          "text": [
            "a3b2c6a1\n"
          ],
          "name": "stdout"
        }
      ]
    },
    {
      "cell_type": "code",
      "metadata": {
        "colab_type": "code",
        "id": "XF4F0DW0L2Q1",
        "colab": {
          "base_uri": "https://localhost:8080/",
          "height": 34
        },
        "outputId": "54ca1ec2-e079-4d90-d75b-b48521bf5b75"
      },
      "source": [
        "# [Q14] Code-2\n",
        "def compress(a):\n",
        "  c = \"\"\n",
        "  count = 0\n",
        "  result = \"\"\n",
        "  for i in a:\n",
        "    if i!=c:  \n",
        "      c = i\n",
        "      if count: result += str(count)\n",
        "      result += i\n",
        "      count = 1\n",
        "    else:\n",
        "      count += 1\n",
        "  if count: result += str(count)\n",
        "  return result          # 이전 문자와 같으면 1증가 아니면 1로 초기화하는 함수\n",
        "\n",
        "compress(\"aaabbcccccca\")"
      ],
      "execution_count": 72,
      "outputs": [
        {
          "output_type": "execute_result",
          "data": {
            "text/plain": [
              "'a3b2c6a1'"
            ]
          },
          "metadata": {
            "tags": []
          },
          "execution_count": 72
        }
      ]
    },
    {
      "cell_type": "markdown",
      "metadata": {
        "colab_type": "text",
        "id": "tCF274jtL3Vk"
      },
      "source": [
        "## Q15. Duplicate Numbers\n",
        "> 0 ~ 9의 문자로 된 숫자를 입력받았을 때, 이 입력값이 0 ~ 9의 모든 숫자를 각각 한 번씩만 사용한 것인지 확인하는 함수를 작성하시오.\n",
        "```\n",
        "입력 예시: 0123456789 01234 01234567890 6789012345 012322456789\n",
        "출력 예시: true false false true false\n",
        "```\n"
      ]
    },
    {
      "cell_type": "code",
      "metadata": {
        "colab_type": "code",
        "id": "3uQFw6jGL3Vm",
        "colab": {
          "base_uri": "https://localhost:8080/",
          "height": 105
        },
        "outputId": "09bee436-cbe6-42bb-e133-edd13bdeaccd"
      },
      "source": [
        "# [Q15] Code-1\n",
        "def num(s):\n",
        "  result = []  # 리스트 자료형 사용\n",
        "  for i in s:      \n",
        "    if i not in result:  # 중복된 수가 없는지 검사\n",
        "      result.append(num)  \n",
        "    else:\n",
        "      return False  \n",
        "  return len(result) == 10  # 0~9는 10개의 수, 10이면 True 아니면 False출력 \n",
        "\n",
        "print(num(\"0123456789\"))\n",
        "print(num(\"01234\"))\n",
        "print(num(\"01234567890\"))\n",
        "print(num(\"6789012345\"))\n",
        "print(num(\"012322456789\"))"
      ],
      "execution_count": 48,
      "outputs": [
        {
          "output_type": "stream",
          "text": [
            "True\n",
            "False\n",
            "False\n",
            "True\n",
            "False\n"
          ],
          "name": "stdout"
        }
      ]
    },
    {
      "cell_type": "code",
      "metadata": {
        "colab_type": "code",
        "id": "Bdt_UGgZL3Vr",
        "colab": {
          "base_uri": "https://localhost:8080/",
          "height": 105
        },
        "outputId": "dac70d5e-c194-44b2-dc7f-930bfc816f1f"
      },
      "source": [
        "# [Q15] Code-2\n",
        "def number(num):\n",
        "    for i in range(10):\n",
        "        if num.count(str(i)) != 1:\n",
        "            print(\"False\")\n",
        "            return\n",
        "\n",
        "    print(\"True\")\n",
        "\n",
        "number('0123456789')\n",
        "number('01234')\n",
        "number('01234567890')\n",
        "number('6789012345')\n",
        "number('012322456789')\n"
      ],
      "execution_count": 73,
      "outputs": [
        {
          "output_type": "stream",
          "text": [
            "True\n",
            "False\n",
            "False\n",
            "True\n",
            "False\n"
          ],
          "name": "stdout"
        }
      ]
    },
    {
      "cell_type": "markdown",
      "metadata": {
        "colab_type": "text",
        "id": "QdPWKi1gL4UE"
      },
      "source": [
        "## Q16. 모스 부호 해독\n",
        "> 문자열 형식으로 입력받은 모스 부호(dot:. dash:-)를 해독하여 영어 문장으로 출력하는 프로그램을 작성하시오.\n",
        "\n",
        "- 글자와 글자 사이는 공백 1개, 단어와 단어 사이는 공백 2개로 구분한다.\n",
        "- 예를 들어 다음 모스 부호는 \"HE SLEEPS EARLY\"로 해석해야 한다.\n",
        "```\n",
        ".... .  ... .-.. . . .--. ...  . .- .-. .-.. -.--\n",
        "```\n",
        "> 모스부호 규칙 표\n",
        "```\n",
        "문자 부호\t문자   부호\n",
        "A\t .-\t    N\t    -.\n",
        "B\t -...\tO\t    ---\n",
        "C\t -.-.\tP\t    .--.\n",
        "D\t -..\tQ\t    --.-\n",
        "E\t .\t    R\t    .-.\n",
        "F\t ..-.\tS\t    ...\n",
        "G\t --.\tT\t    -\n",
        "H\t ....\tU\t    ..-\n",
        "I\t ..\t    V\t    ...-\n",
        "J\t .---\tW\t    .--\n",
        "K\t -.-\tX\t    -..-\n",
        "L\t .-..\tY\t    -.--\n",
        "M\t --\t    Z\t    --..\n",
        "```"
      ]
    },
    {
      "cell_type": "code",
      "metadata": {
        "colab_type": "code",
        "id": "ciZbyRFrL4UF",
        "colab": {
          "base_uri": "https://localhost:8080/",
          "height": 34
        },
        "outputId": "4456675d-7a31-44da-fd39-fb86257c85d5"
      },
      "source": [
        "# [Q16] Code-1\n",
        "dic = { \n",
        "    '.-':'A','-...':'B','-.-.':'C','-..':'D','.':'E','..-.':'F',\n",
        "    '--.':'G','....':'H','..':'I','.---':'J','-.-':'K','.-..':'L',\n",
        "    '--':'M','-.':'N','---':'O','.--.':'P','--.-':'Q','.-.':'R',\n",
        "    '...':'S','-':'T','..-':'U','...-':'V','.--':'W','-..-':'X',\n",
        "    '-.--':'Y','--..':'Z'\n",
        "}\n",
        "\n",
        "def morse(src):\n",
        "  result = []\n",
        "  for word in src.split(\"  \"): # 공백 2개로 구분\n",
        "    for char in word.split(\" \"): # 공백 1개로 구분\n",
        "      result.append(dic[char])\n",
        "    result.append(\" \")\n",
        "  return \"\".join(result)\n",
        "\n",
        "print (morse('.... .  ... .-.. . . .--. ...  . .- .-. .-.. -.--'))"
      ],
      "execution_count": 51,
      "outputs": [
        {
          "output_type": "stream",
          "text": [
            "HE SLEEPS EARLY \n"
          ],
          "name": "stdout"
        }
      ]
    },
    {
      "cell_type": "code",
      "metadata": {
        "colab_type": "code",
        "id": "x9-Qq3mVL4UJ",
        "colab": {
          "base_uri": "https://localhost:8080/",
          "height": 34
        },
        "outputId": "8f9b1247-8b99-44b1-e22b-8e320ba8c4bb"
      },
      "source": [
        "# [Q16] Code-2\n",
        "dic = { \n",
        "    '':' ','.-':'A','-...':'B','-.-.':'C','-..':'D','.':'E','..-.':'F',\n",
        "    '--.':'G','....':'H','..':'I','.---':'J','-.-':'K','.-..':'L',\n",
        "    '--':'M','-.':'N','---':'O','.--.':'P','--.-':'Q','.-.':'R',\n",
        "    '...':'S','-':'T','..-':'U','...-':'V','.--':'W','-..-':'X',\n",
        "    '-.--':'Y','--..':'Z'\n",
        "}\n",
        "morse = \".... .  ... .-.. . . .--. ...  . .- .-. .-.. -.--\"\n",
        "word = morse.split(\" \")\n",
        "for i in word:\n",
        "    print(dic[i], end=\"\")"
      ],
      "execution_count": 71,
      "outputs": [
        {
          "output_type": "stream",
          "text": [
            "HE SLEEPS EARLY"
          ],
          "name": "stdout"
        }
      ]
    },
    {
      "cell_type": "markdown",
      "metadata": {
        "id": "om4sRiRhMosn",
        "colab_type": "text"
      },
      "source": [
        "\n",
        "\n",
        "---\n",
        "\n",
        "# 다음 정규식 문제는 기말고사 후에 도전해 보세요."
      ]
    },
    {
      "cell_type": "markdown",
      "metadata": {
        "id": "nazB2KXYOm5R",
        "colab_type": "text"
      },
      "source": [
        "## Regular Expression\n",
        "- import re"
      ]
    },
    {
      "cell_type": "markdown",
      "metadata": {
        "colab_type": "text",
        "id": "AN8kEO30L5NE"
      },
      "source": [
        "## Q17. 기초 메타 문자\n",
        "> 다음 중 정규식 a[.]{3,}b과 매치되는 문자열은 무엇일까?\n",
        "\n",
        "\n",
        "```\n",
        "acccb\n",
        "a....b\n",
        "aaab\n",
        "a.cccb\n",
        "```\n"
      ]
    },
    {
      "cell_type": "code",
      "metadata": {
        "colab_type": "code",
        "id": "uKQWoUqhL5NG",
        "colab": {}
      },
      "source": [
        "# [Q17] Code\n",
        "\n"
      ],
      "execution_count": null,
      "outputs": []
    },
    {
      "cell_type": "markdown",
      "metadata": {
        "colab_type": "text",
        "id": "0dEWfwATL6DE"
      },
      "source": [
        "## Q18. 문자열 검색\n",
        "> 다음 코드의 결괏값은 무엇일까?\n",
        "\n",
        "```\n",
        ">>> import re\n",
        ">>> p = re.compile(\"[a-z]+\")\n",
        ">>> m = p.search(\"5 python\")\n",
        ">>> m.start() + m.end()\n",
        "```\n"
      ]
    },
    {
      "cell_type": "code",
      "metadata": {
        "colab_type": "code",
        "id": "Ip11Dmo7L6DH",
        "colab": {}
      },
      "source": [
        "# [Q18] Code\n",
        "\n"
      ],
      "execution_count": null,
      "outputs": []
    },
    {
      "cell_type": "markdown",
      "metadata": {
        "colab_type": "text",
        "id": "8QizaqrUL62E"
      },
      "source": [
        "## Q19. 그루핑\n",
        "> 다음과 같은 문자열에서 휴대폰 번호 뒷자리인 숫자 4개를 ####로 바꾸는 프로그램을 정규식을 사용하여 작성하시오.\n",
        "\n",
        "```\n",
        "park 010-9999-9988\n",
        "kim 010-9909-7789\n",
        "lee 010-8789-7768\n",
        "```\n"
      ]
    },
    {
      "cell_type": "code",
      "metadata": {
        "colab_type": "code",
        "id": "bfRvchIlL62H",
        "colab": {}
      },
      "source": [
        "# [Q19] Code\n",
        "\n"
      ],
      "execution_count": null,
      "outputs": []
    },
    {
      "cell_type": "markdown",
      "metadata": {
        "colab_type": "text",
        "id": "0DumiUQoL7jk"
      },
      "source": [
        "## Q20. 전방 탐색\n",
        "> 다음은 이메일 주소를 나타내는 정규식이다. 이 정규식은 park@naver.com, kim@daum.net, lee@myhome.co.kr 등과 매치된다. 긍정형 전방 탐색 기법을 사용하여 .com, .net이 아닌 이메일 주소는 제외시키는 정규식을 작성하시오.\n",
        "\n",
        "```\n",
        ".*[@].*[.].*$\n",
        "```\n"
      ]
    },
    {
      "cell_type": "code",
      "metadata": {
        "colab_type": "code",
        "id": "9S9UUOkFL7jl",
        "colab": {}
      },
      "source": [
        "# [Q20] Code\n",
        "\n"
      ],
      "execution_count": null,
      "outputs": []
    },
    {
      "cell_type": "markdown",
      "metadata": {
        "id": "2ljBDShkbqZO",
        "colab_type": "text"
      },
      "source": [
        "## 코딩 연습 결과를 github에 올리기\n",
        "> 완성된 ipython 노트북 파일을 각자의 github에 올리시오.\n",
        "\n",
        "- github 계정 만들기 (계정이 없는 학생)\n",
        "    1. github에 sign up (Google gmail 계정을 이용해서 만드시오.)\n",
        "- github에 노트 올리기\n",
        "    2. github에 각자의 id로 repo를 만드시오. (한번 만들면 계속 재사용)\n",
        "    3. github repo에 연습결과 노트를 올리시오.\n",
        "        - 제출노트: ch8_exercises_id.ipynb\n"
      ]
    },
    {
      "cell_type": "code",
      "metadata": {
        "id": "OnCR-YNCc8B6",
        "colab_type": "code",
        "colab": {}
      },
      "source": [
        ""
      ],
      "execution_count": null,
      "outputs": []
    }
  ]
}